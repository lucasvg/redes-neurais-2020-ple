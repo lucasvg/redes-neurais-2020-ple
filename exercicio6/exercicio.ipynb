{
 "metadata": {
  "language_info": {
   "codemirror_mode": {
    "name": "ipython",
    "version": 3
   },
   "file_extension": ".py",
   "mimetype": "text/x-python",
   "name": "python",
   "nbconvert_exporter": "python",
   "pygments_lexer": "ipython3",
   "version": "3.8.3-final"
  },
  "orig_nbformat": 2,
  "kernelspec": {
   "name": "Python 3.8.3 64-bit ('base': conda)",
   "display_name": "Python 3.8.3 64-bit ('base': conda)",
   "metadata": {
    "interpreter": {
     "hash": "e299f55f73a75aa4511c91360c323b2954e5531146578c28caef150140a40ae1"
    }
   }
  }
 },
 "nbformat": 4,
 "nbformat_minor": 2,
 "cells": [
  {
   "source": [
    "Inicialmente, após importação das dependências e constantes, os dados foram carregados e visualizados para um primeiro contato. Percebe-se que são 798 registros, com 12 características, onde dados faltantes, há escala diferente entre eles, e o problema é de classificação binária."
   ],
   "cell_type": "markdown",
   "metadata": {}
  },
  {
   "cell_type": "code",
   "execution_count": 1,
   "metadata": {},
   "outputs": [
    {
     "output_type": "execute_result",
     "data": {
      "text/plain": [
       "         Age  HealthFactor1  HealthFactor2   BMI  DiabetesPedigreeFunction  \\\n",
       "Patient                                                                      \n",
       "p1        50          46.72          176.0  33.6                   627.000   \n",
       "p2        31          30.12          160.0  26.6                   351.000   \n",
       "p3        32          30.26           88.0  23.3                   672.000   \n",
       "p4        21          22.42          125.0  28.1                   167.000   \n",
       "p5        33          35.02            NaN  43.1                     2.288   \n",
       "...      ...            ...            ...   ...                       ...   \n",
       "p794      38          37.22           86.0  34.1                   337.000   \n",
       "p795      60          55.20          117.0  36.0                   546.000   \n",
       "p796      28          28.72           99.0  31.6                   851.000   \n",
       "p797      22          22.56          109.0  24.8                   267.000   \n",
       "p798      28          26.38           84.0  19.9                   188.000   \n",
       "\n",
       "         Pregnancies  Glucose  BloodPressure  PreviousSurgery  SkinThickness  \\\n",
       "Patient                                                                        \n",
       "p1                 6      148             72              0.0             35   \n",
       "p2                 1       85             66              0.0             29   \n",
       "p3                 8      183             64              0.0              0   \n",
       "p4                 1       89             66              0.0             23   \n",
       "p5                 0      137             40              0.0             35   \n",
       "...              ...      ...            ...              ...            ...   \n",
       "p794               5      117             92              0.0              0   \n",
       "p795               5      109             75              0.0             26   \n",
       "p796               3      158             76              0.0             36   \n",
       "p797               3       88             58              0.0             11   \n",
       "p798               6       92             92              0.0              0   \n",
       "\n",
       "         Insulin  Inheritance  Outcome  \n",
       "Patient                                 \n",
       "p1             0          NaN        1  \n",
       "p2             0          1.0        0  \n",
       "p3             0          1.0        1  \n",
       "p4            94          NaN        0  \n",
       "p5           168          0.0        1  \n",
       "...          ...          ...      ...  \n",
       "p794           0          1.0        0  \n",
       "p795           0          NaN        0  \n",
       "p796         245          NaN        1  \n",
       "p797          54          0.0        0  \n",
       "p798           0          NaN        0  \n",
       "\n",
       "[798 rows x 13 columns]"
      ],
      "text/html": "<div>\n<style scoped>\n    .dataframe tbody tr th:only-of-type {\n        vertical-align: middle;\n    }\n\n    .dataframe tbody tr th {\n        vertical-align: top;\n    }\n\n    .dataframe thead th {\n        text-align: right;\n    }\n</style>\n<table border=\"1\" class=\"dataframe\">\n  <thead>\n    <tr style=\"text-align: right;\">\n      <th></th>\n      <th>Age</th>\n      <th>HealthFactor1</th>\n      <th>HealthFactor2</th>\n      <th>BMI</th>\n      <th>DiabetesPedigreeFunction</th>\n      <th>Pregnancies</th>\n      <th>Glucose</th>\n      <th>BloodPressure</th>\n      <th>PreviousSurgery</th>\n      <th>SkinThickness</th>\n      <th>Insulin</th>\n      <th>Inheritance</th>\n      <th>Outcome</th>\n    </tr>\n    <tr>\n      <th>Patient</th>\n      <th></th>\n      <th></th>\n      <th></th>\n      <th></th>\n      <th></th>\n      <th></th>\n      <th></th>\n      <th></th>\n      <th></th>\n      <th></th>\n      <th></th>\n      <th></th>\n      <th></th>\n    </tr>\n  </thead>\n  <tbody>\n    <tr>\n      <th>p1</th>\n      <td>50</td>\n      <td>46.72</td>\n      <td>176.0</td>\n      <td>33.6</td>\n      <td>627.000</td>\n      <td>6</td>\n      <td>148</td>\n      <td>72</td>\n      <td>0.0</td>\n      <td>35</td>\n      <td>0</td>\n      <td>NaN</td>\n      <td>1</td>\n    </tr>\n    <tr>\n      <th>p2</th>\n      <td>31</td>\n      <td>30.12</td>\n      <td>160.0</td>\n      <td>26.6</td>\n      <td>351.000</td>\n      <td>1</td>\n      <td>85</td>\n      <td>66</td>\n      <td>0.0</td>\n      <td>29</td>\n      <td>0</td>\n      <td>1.0</td>\n      <td>0</td>\n    </tr>\n    <tr>\n      <th>p3</th>\n      <td>32</td>\n      <td>30.26</td>\n      <td>88.0</td>\n      <td>23.3</td>\n      <td>672.000</td>\n      <td>8</td>\n      <td>183</td>\n      <td>64</td>\n      <td>0.0</td>\n      <td>0</td>\n      <td>0</td>\n      <td>1.0</td>\n      <td>1</td>\n    </tr>\n    <tr>\n      <th>p4</th>\n      <td>21</td>\n      <td>22.42</td>\n      <td>125.0</td>\n      <td>28.1</td>\n      <td>167.000</td>\n      <td>1</td>\n      <td>89</td>\n      <td>66</td>\n      <td>0.0</td>\n      <td>23</td>\n      <td>94</td>\n      <td>NaN</td>\n      <td>0</td>\n    </tr>\n    <tr>\n      <th>p5</th>\n      <td>33</td>\n      <td>35.02</td>\n      <td>NaN</td>\n      <td>43.1</td>\n      <td>2.288</td>\n      <td>0</td>\n      <td>137</td>\n      <td>40</td>\n      <td>0.0</td>\n      <td>35</td>\n      <td>168</td>\n      <td>0.0</td>\n      <td>1</td>\n    </tr>\n    <tr>\n      <th>...</th>\n      <td>...</td>\n      <td>...</td>\n      <td>...</td>\n      <td>...</td>\n      <td>...</td>\n      <td>...</td>\n      <td>...</td>\n      <td>...</td>\n      <td>...</td>\n      <td>...</td>\n      <td>...</td>\n      <td>...</td>\n      <td>...</td>\n    </tr>\n    <tr>\n      <th>p794</th>\n      <td>38</td>\n      <td>37.22</td>\n      <td>86.0</td>\n      <td>34.1</td>\n      <td>337.000</td>\n      <td>5</td>\n      <td>117</td>\n      <td>92</td>\n      <td>0.0</td>\n      <td>0</td>\n      <td>0</td>\n      <td>1.0</td>\n      <td>0</td>\n    </tr>\n    <tr>\n      <th>p795</th>\n      <td>60</td>\n      <td>55.20</td>\n      <td>117.0</td>\n      <td>36.0</td>\n      <td>546.000</td>\n      <td>5</td>\n      <td>109</td>\n      <td>75</td>\n      <td>0.0</td>\n      <td>26</td>\n      <td>0</td>\n      <td>NaN</td>\n      <td>0</td>\n    </tr>\n    <tr>\n      <th>p796</th>\n      <td>28</td>\n      <td>28.72</td>\n      <td>99.0</td>\n      <td>31.6</td>\n      <td>851.000</td>\n      <td>3</td>\n      <td>158</td>\n      <td>76</td>\n      <td>0.0</td>\n      <td>36</td>\n      <td>245</td>\n      <td>NaN</td>\n      <td>1</td>\n    </tr>\n    <tr>\n      <th>p797</th>\n      <td>22</td>\n      <td>22.56</td>\n      <td>109.0</td>\n      <td>24.8</td>\n      <td>267.000</td>\n      <td>3</td>\n      <td>88</td>\n      <td>58</td>\n      <td>0.0</td>\n      <td>11</td>\n      <td>54</td>\n      <td>0.0</td>\n      <td>0</td>\n    </tr>\n    <tr>\n      <th>p798</th>\n      <td>28</td>\n      <td>26.38</td>\n      <td>84.0</td>\n      <td>19.9</td>\n      <td>188.000</td>\n      <td>6</td>\n      <td>92</td>\n      <td>92</td>\n      <td>0.0</td>\n      <td>0</td>\n      <td>0</td>\n      <td>NaN</td>\n      <td>0</td>\n    </tr>\n  </tbody>\n</table>\n<p>798 rows × 13 columns</p>\n</div>"
     },
     "metadata": {},
     "execution_count": 1
    }
   ],
   "source": [
    "import pandas as pd\n",
    "from sklearn.preprocessing import MinMaxScaler\n",
    "from sklearn.model_selection import train_test_split\n",
    "from sklearn.neural_network import MLPClassifier\n",
    "from sklearn.model_selection import GridSearchCV\n",
    "DRE = 113080612\n",
    "\n",
    "df = pd.read_csv('Lista1.csv.csv', index_col=0)\n",
    "df"
   ]
  },
  {
   "source": [
    "Após uma análise da variância das propriedades, percebemos que podemos eliminar o dado HealthFactor1, que possui altíssima correlação com Age."
   ],
   "cell_type": "markdown",
   "metadata": {}
  },
  {
   "cell_type": "code",
   "execution_count": 2,
   "metadata": {},
   "outputs": [
    {
     "output_type": "execute_result",
     "data": {
      "text/plain": [
       "<pandas.io.formats.style.Styler at 0x1a564d47040>"
      ],
      "text/html": "<style  type=\"text/css\" >\n    #T_635f993a_160c_11eb_9886_8cc84bff9692row0_col0 {\n            background-color:  #b40426;\n            color:  #f1f1f1;\n        }    #T_635f993a_160c_11eb_9886_8cc84bff9692row0_col1 {\n            background-color:  #b8122a;\n            color:  #f1f1f1;\n        }    #T_635f993a_160c_11eb_9886_8cc84bff9692row0_col2 {\n            background-color:  #5b7ae5;\n            color:  #000000;\n        }    #T_635f993a_160c_11eb_9886_8cc84bff9692row0_col3 {\n            background-color:  #6788ee;\n            color:  #000000;\n        }    #T_635f993a_160c_11eb_9886_8cc84bff9692row0_col4 {\n            background-color:  #3e51c5;\n            color:  #f1f1f1;\n        }    #T_635f993a_160c_11eb_9886_8cc84bff9692row0_col5 {\n            background-color:  #efcebd;\n            color:  #000000;\n        }    #T_635f993a_160c_11eb_9886_8cc84bff9692row0_col6 {\n            background-color:  #9dbdff;\n            color:  #000000;\n        }    #T_635f993a_160c_11eb_9886_8cc84bff9692row0_col7 {\n            background-color:  #9abbff;\n            color:  #000000;\n        }    #T_635f993a_160c_11eb_9886_8cc84bff9692row0_col8 {\n            background-color:  #000000;\n            color:  #f1f1f1;\n        }    #T_635f993a_160c_11eb_9886_8cc84bff9692row0_col9 {\n            background-color:  #3e51c5;\n            color:  #f1f1f1;\n        }    #T_635f993a_160c_11eb_9886_8cc84bff9692row0_col10 {\n            background-color:  #536edd;\n            color:  #000000;\n        }    #T_635f993a_160c_11eb_9886_8cc84bff9692row0_col11 {\n            background-color:  #5d7ce6;\n            color:  #000000;\n        }    #T_635f993a_160c_11eb_9886_8cc84bff9692row0_col12 {\n            background-color:  #8caffe;\n            color:  #000000;\n        }    #T_635f993a_160c_11eb_9886_8cc84bff9692row1_col0 {\n            background-color:  #b8122a;\n            color:  #f1f1f1;\n        }    #T_635f993a_160c_11eb_9886_8cc84bff9692row1_col1 {\n            background-color:  #b40426;\n            color:  #f1f1f1;\n        }    #T_635f993a_160c_11eb_9886_8cc84bff9692row1_col2 {\n            background-color:  #5572df;\n            color:  #000000;\n        }    #T_635f993a_160c_11eb_9886_8cc84bff9692row1_col3 {\n            background-color:  #9abbff;\n            color:  #000000;\n        }    #T_635f993a_160c_11eb_9886_8cc84bff9692row1_col4 {\n            background-color:  #4257c9;\n            color:  #f1f1f1;\n        }    #T_635f993a_160c_11eb_9886_8cc84bff9692row1_col5 {\n            background-color:  #eed0c0;\n            color:  #000000;\n        }    #T_635f993a_160c_11eb_9886_8cc84bff9692row1_col6 {\n            background-color:  #a7c5fe;\n            color:  #000000;\n        }    #T_635f993a_160c_11eb_9886_8cc84bff9692row1_col7 {\n            background-color:  #a6c4fe;\n            color:  #000000;\n        }    #T_635f993a_160c_11eb_9886_8cc84bff9692row1_col8 {\n            background-color:  #000000;\n            color:  #f1f1f1;\n        }    #T_635f993a_160c_11eb_9886_8cc84bff9692row1_col9 {\n            background-color:  #506bda;\n            color:  #000000;\n        }    #T_635f993a_160c_11eb_9886_8cc84bff9692row1_col10 {\n            background-color:  #5b7ae5;\n            color:  #000000;\n        }    #T_635f993a_160c_11eb_9886_8cc84bff9692row1_col11 {\n            background-color:  #5b7ae5;\n            color:  #000000;\n        }    #T_635f993a_160c_11eb_9886_8cc84bff9692row1_col12 {\n            background-color:  #9bbcff;\n            color:  #000000;\n        }    #T_635f993a_160c_11eb_9886_8cc84bff9692row2_col0 {\n            background-color:  #5673e0;\n            color:  #000000;\n        }    #T_635f993a_160c_11eb_9886_8cc84bff9692row2_col1 {\n            background-color:  #3e51c5;\n            color:  #f1f1f1;\n        }    #T_635f993a_160c_11eb_9886_8cc84bff9692row2_col2 {\n            background-color:  #b40426;\n            color:  #f1f1f1;\n        }    #T_635f993a_160c_11eb_9886_8cc84bff9692row2_col3 {\n            background-color:  #3b4cc0;\n            color:  #f1f1f1;\n        }    #T_635f993a_160c_11eb_9886_8cc84bff9692row2_col4 {\n            background-color:  #506bda;\n            color:  #000000;\n        }    #T_635f993a_160c_11eb_9886_8cc84bff9692row2_col5 {\n            background-color:  #5a78e4;\n            color:  #000000;\n        }    #T_635f993a_160c_11eb_9886_8cc84bff9692row2_col6 {\n            background-color:  #3d50c3;\n            color:  #f1f1f1;\n        }    #T_635f993a_160c_11eb_9886_8cc84bff9692row2_col7 {\n            background-color:  #3b4cc0;\n            color:  #f1f1f1;\n        }    #T_635f993a_160c_11eb_9886_8cc84bff9692row2_col8 {\n            background-color:  #000000;\n            color:  #f1f1f1;\n        }    #T_635f993a_160c_11eb_9886_8cc84bff9692row2_col9 {\n            background-color:  #4055c8;\n            color:  #f1f1f1;\n        }    #T_635f993a_160c_11eb_9886_8cc84bff9692row2_col10 {\n            background-color:  #3d50c3;\n            color:  #f1f1f1;\n        }    #T_635f993a_160c_11eb_9886_8cc84bff9692row2_col11 {\n            background-color:  #5875e1;\n            color:  #000000;\n        }    #T_635f993a_160c_11eb_9886_8cc84bff9692row2_col12 {\n            background-color:  #3b4cc0;\n            color:  #f1f1f1;\n        }    #T_635f993a_160c_11eb_9886_8cc84bff9692row3_col0 {\n            background-color:  #6282ea;\n            color:  #000000;\n        }    #T_635f993a_160c_11eb_9886_8cc84bff9692row3_col1 {\n            background-color:  #85a8fc;\n            color:  #000000;\n        }    #T_635f993a_160c_11eb_9886_8cc84bff9692row3_col2 {\n            background-color:  #3b4cc0;\n            color:  #f1f1f1;\n        }    #T_635f993a_160c_11eb_9886_8cc84bff9692row3_col3 {\n            background-color:  #b40426;\n            color:  #f1f1f1;\n        }    #T_635f993a_160c_11eb_9886_8cc84bff9692row3_col4 {\n            background-color:  #5673e0;\n            color:  #000000;\n        }    #T_635f993a_160c_11eb_9886_8cc84bff9692row3_col5 {\n            background-color:  #5875e1;\n            color:  #000000;\n        }    #T_635f993a_160c_11eb_9886_8cc84bff9692row3_col6 {\n            background-color:  #89acfd;\n            color:  #000000;\n        }    #T_635f993a_160c_11eb_9886_8cc84bff9692row3_col7 {\n            background-color:  #9fbfff;\n            color:  #000000;\n        }    #T_635f993a_160c_11eb_9886_8cc84bff9692row3_col8 {\n            background-color:  #000000;\n            color:  #f1f1f1;\n        }    #T_635f993a_160c_11eb_9886_8cc84bff9692row3_col9 {\n            background-color:  #d2dbe8;\n            color:  #000000;\n        }    #T_635f993a_160c_11eb_9886_8cc84bff9692row3_col10 {\n            background-color:  #93b5fe;\n            color:  #000000;\n        }    #T_635f993a_160c_11eb_9886_8cc84bff9692row3_col11 {\n            background-color:  #5875e1;\n            color:  #000000;\n        }    #T_635f993a_160c_11eb_9886_8cc84bff9692row3_col12 {\n            background-color:  #9bbcff;\n            color:  #000000;\n        }    #T_635f993a_160c_11eb_9886_8cc84bff9692row4_col0 {\n            background-color:  #5470de;\n            color:  #000000;\n        }    #T_635f993a_160c_11eb_9886_8cc84bff9692row4_col1 {\n            background-color:  #455cce;\n            color:  #f1f1f1;\n        }    #T_635f993a_160c_11eb_9886_8cc84bff9692row4_col2 {\n            background-color:  #6b8df0;\n            color:  #000000;\n        }    #T_635f993a_160c_11eb_9886_8cc84bff9692row4_col3 {\n            background-color:  #7093f3;\n            color:  #000000;\n        }    #T_635f993a_160c_11eb_9886_8cc84bff9692row4_col4 {\n            background-color:  #b40426;\n            color:  #f1f1f1;\n        }    #T_635f993a_160c_11eb_9886_8cc84bff9692row4_col5 {\n            background-color:  #4c66d6;\n            color:  #000000;\n        }    #T_635f993a_160c_11eb_9886_8cc84bff9692row4_col6 {\n            background-color:  #4a63d3;\n            color:  #f1f1f1;\n        }    #T_635f993a_160c_11eb_9886_8cc84bff9692row4_col7 {\n            background-color:  #4a63d3;\n            color:  #f1f1f1;\n        }    #T_635f993a_160c_11eb_9886_8cc84bff9692row4_col8 {\n            background-color:  #000000;\n            color:  #f1f1f1;\n        }    #T_635f993a_160c_11eb_9886_8cc84bff9692row4_col9 {\n            background-color:  #7ea1fa;\n            color:  #000000;\n        }    #T_635f993a_160c_11eb_9886_8cc84bff9692row4_col10 {\n            background-color:  #7da0f9;\n            color:  #000000;\n        }    #T_635f993a_160c_11eb_9886_8cc84bff9692row4_col11 {\n            background-color:  #5875e1;\n            color:  #000000;\n        }    #T_635f993a_160c_11eb_9886_8cc84bff9692row4_col12 {\n            background-color:  #5a78e4;\n            color:  #000000;\n        }    #T_635f993a_160c_11eb_9886_8cc84bff9692row5_col0 {\n            background-color:  #f0cdbb;\n            color:  #000000;\n        }    #T_635f993a_160c_11eb_9886_8cc84bff9692row5_col1 {\n            background-color:  #ead5c9;\n            color:  #000000;\n        }    #T_635f993a_160c_11eb_9886_8cc84bff9692row5_col2 {\n            background-color:  #6384eb;\n            color:  #000000;\n        }    #T_635f993a_160c_11eb_9886_8cc84bff9692row5_col3 {\n            background-color:  #6180e9;\n            color:  #000000;\n        }    #T_635f993a_160c_11eb_9886_8cc84bff9692row5_col4 {\n            background-color:  #3b4cc0;\n            color:  #f1f1f1;\n        }    #T_635f993a_160c_11eb_9886_8cc84bff9692row5_col5 {\n            background-color:  #b40426;\n            color:  #f1f1f1;\n        }    #T_635f993a_160c_11eb_9886_8cc84bff9692row5_col6 {\n            background-color:  #6c8ff1;\n            color:  #000000;\n        }    #T_635f993a_160c_11eb_9886_8cc84bff9692row5_col7 {\n            background-color:  #799cf8;\n            color:  #000000;\n        }    #T_635f993a_160c_11eb_9886_8cc84bff9692row5_col8 {\n            background-color:  #000000;\n            color:  #f1f1f1;\n        }    #T_635f993a_160c_11eb_9886_8cc84bff9692row5_col9 {\n            background-color:  #4257c9;\n            color:  #f1f1f1;\n        }    #T_635f993a_160c_11eb_9886_8cc84bff9692row5_col10 {\n            background-color:  #3e51c5;\n            color:  #f1f1f1;\n        }    #T_635f993a_160c_11eb_9886_8cc84bff9692row5_col11 {\n            background-color:  #6384eb;\n            color:  #000000;\n        }    #T_635f993a_160c_11eb_9886_8cc84bff9692row5_col12 {\n            background-color:  #85a8fc;\n            color:  #000000;\n        }    #T_635f993a_160c_11eb_9886_8cc84bff9692row6_col0 {\n            background-color:  #afcafc;\n            color:  #000000;\n        }    #T_635f993a_160c_11eb_9886_8cc84bff9692row6_col1 {\n            background-color:  #abc8fd;\n            color:  #000000;\n        }    #T_635f993a_160c_11eb_9886_8cc84bff9692row6_col2 {\n            background-color:  #5977e3;\n            color:  #000000;\n        }    #T_635f993a_160c_11eb_9886_8cc84bff9692row6_col3 {\n            background-color:  #a2c1ff;\n            color:  #000000;\n        }    #T_635f993a_160c_11eb_9886_8cc84bff9692row6_col4 {\n            background-color:  #4b64d5;\n            color:  #f1f1f1;\n        }    #T_635f993a_160c_11eb_9886_8cc84bff9692row6_col5 {\n            background-color:  #7ea1fa;\n            color:  #000000;\n        }    #T_635f993a_160c_11eb_9886_8cc84bff9692row6_col6 {\n            background-color:  #b40426;\n            color:  #f1f1f1;\n        }    #T_635f993a_160c_11eb_9886_8cc84bff9692row6_col7 {\n            background-color:  #7da0f9;\n            color:  #000000;\n        }    #T_635f993a_160c_11eb_9886_8cc84bff9692row6_col8 {\n            background-color:  #000000;\n            color:  #f1f1f1;\n        }    #T_635f993a_160c_11eb_9886_8cc84bff9692row6_col9 {\n            background-color:  #6f92f3;\n            color:  #000000;\n        }    #T_635f993a_160c_11eb_9886_8cc84bff9692row6_col10 {\n            background-color:  #c1d4f4;\n            color:  #000000;\n        }    #T_635f993a_160c_11eb_9886_8cc84bff9692row6_col11 {\n            background-color:  #5572df;\n            color:  #000000;\n        }    #T_635f993a_160c_11eb_9886_8cc84bff9692row6_col12 {\n            background-color:  #d6dce4;\n            color:  #000000;\n        }    #T_635f993a_160c_11eb_9886_8cc84bff9692row7_col0 {\n            background-color:  #a5c3fe;\n            color:  #000000;\n        }    #T_635f993a_160c_11eb_9886_8cc84bff9692row7_col1 {\n            background-color:  #a2c1ff;\n            color:  #000000;\n        }    #T_635f993a_160c_11eb_9886_8cc84bff9692row7_col2 {\n            background-color:  #4c66d6;\n            color:  #000000;\n        }    #T_635f993a_160c_11eb_9886_8cc84bff9692row7_col3 {\n            background-color:  #aec9fc;\n            color:  #000000;\n        }    #T_635f993a_160c_11eb_9886_8cc84bff9692row7_col4 {\n            background-color:  #4257c9;\n            color:  #f1f1f1;\n        }    #T_635f993a_160c_11eb_9886_8cc84bff9692row7_col5 {\n            background-color:  #82a6fb;\n            color:  #000000;\n        }    #T_635f993a_160c_11eb_9886_8cc84bff9692row7_col6 {\n            background-color:  #7597f6;\n            color:  #000000;\n        }    #T_635f993a_160c_11eb_9886_8cc84bff9692row7_col7 {\n            background-color:  #b40426;\n            color:  #f1f1f1;\n        }    #T_635f993a_160c_11eb_9886_8cc84bff9692row7_col8 {\n            background-color:  #000000;\n            color:  #f1f1f1;\n        }    #T_635f993a_160c_11eb_9886_8cc84bff9692row7_col9 {\n            background-color:  #9abbff;\n            color:  #000000;\n        }    #T_635f993a_160c_11eb_9886_8cc84bff9692row7_col10 {\n            background-color:  #7093f3;\n            color:  #000000;\n        }    #T_635f993a_160c_11eb_9886_8cc84bff9692row7_col11 {\n            background-color:  #5e7de7;\n            color:  #000000;\n        }    #T_635f993a_160c_11eb_9886_8cc84bff9692row7_col12 {\n            background-color:  #506bda;\n            color:  #000000;\n        }    #T_635f993a_160c_11eb_9886_8cc84bff9692row8_col0 {\n            background-color:  #000000;\n            color:  #f1f1f1;\n        }    #T_635f993a_160c_11eb_9886_8cc84bff9692row8_col1 {\n            background-color:  #000000;\n            color:  #f1f1f1;\n        }    #T_635f993a_160c_11eb_9886_8cc84bff9692row8_col2 {\n            background-color:  #000000;\n            color:  #f1f1f1;\n        }    #T_635f993a_160c_11eb_9886_8cc84bff9692row8_col3 {\n            background-color:  #000000;\n            color:  #f1f1f1;\n        }    #T_635f993a_160c_11eb_9886_8cc84bff9692row8_col4 {\n            background-color:  #000000;\n            color:  #f1f1f1;\n        }    #T_635f993a_160c_11eb_9886_8cc84bff9692row8_col5 {\n            background-color:  #000000;\n            color:  #f1f1f1;\n        }    #T_635f993a_160c_11eb_9886_8cc84bff9692row8_col6 {\n            background-color:  #000000;\n            color:  #f1f1f1;\n        }    #T_635f993a_160c_11eb_9886_8cc84bff9692row8_col7 {\n            background-color:  #000000;\n            color:  #f1f1f1;\n        }    #T_635f993a_160c_11eb_9886_8cc84bff9692row8_col8 {\n            background-color:  #000000;\n            color:  #f1f1f1;\n        }    #T_635f993a_160c_11eb_9886_8cc84bff9692row8_col9 {\n            background-color:  #000000;\n            color:  #f1f1f1;\n        }    #T_635f993a_160c_11eb_9886_8cc84bff9692row8_col10 {\n            background-color:  #000000;\n            color:  #f1f1f1;\n        }    #T_635f993a_160c_11eb_9886_8cc84bff9692row8_col11 {\n            background-color:  #000000;\n            color:  #f1f1f1;\n        }    #T_635f993a_160c_11eb_9886_8cc84bff9692row8_col12 {\n            background-color:  #000000;\n            color:  #f1f1f1;\n        }    #T_635f993a_160c_11eb_9886_8cc84bff9692row9_col0 {\n            background-color:  #3b4cc0;\n            color:  #f1f1f1;\n        }    #T_635f993a_160c_11eb_9886_8cc84bff9692row9_col1 {\n            background-color:  #3b4cc0;\n            color:  #f1f1f1;\n        }    #T_635f993a_160c_11eb_9886_8cc84bff9692row9_col2 {\n            background-color:  #4358cb;\n            color:  #f1f1f1;\n        }    #T_635f993a_160c_11eb_9886_8cc84bff9692row9_col3 {\n            background-color:  #d3dbe7;\n            color:  #000000;\n        }    #T_635f993a_160c_11eb_9886_8cc84bff9692row9_col4 {\n            background-color:  #6687ed;\n            color:  #000000;\n        }    #T_635f993a_160c_11eb_9886_8cc84bff9692row9_col5 {\n            background-color:  #3b4cc0;\n            color:  #f1f1f1;\n        }    #T_635f993a_160c_11eb_9886_8cc84bff9692row9_col6 {\n            background-color:  #5572df;\n            color:  #000000;\n        }    #T_635f993a_160c_11eb_9886_8cc84bff9692row9_col7 {\n            background-color:  #8badfd;\n            color:  #000000;\n        }    #T_635f993a_160c_11eb_9886_8cc84bff9692row9_col8 {\n            background-color:  #000000;\n            color:  #f1f1f1;\n        }    #T_635f993a_160c_11eb_9886_8cc84bff9692row9_col9 {\n            background-color:  #b40426;\n            color:  #f1f1f1;\n        }    #T_635f993a_160c_11eb_9886_8cc84bff9692row9_col10 {\n            background-color:  #dadce0;\n            color:  #000000;\n        }    #T_635f993a_160c_11eb_9886_8cc84bff9692row9_col11 {\n            background-color:  #3b4cc0;\n            color:  #f1f1f1;\n        }    #T_635f993a_160c_11eb_9886_8cc84bff9692row9_col12 {\n            background-color:  #5673e0;\n            color:  #000000;\n        }    #T_635f993a_160c_11eb_9886_8cc84bff9692row10_col0 {\n            background-color:  #5470de;\n            color:  #000000;\n        }    #T_635f993a_160c_11eb_9886_8cc84bff9692row10_col1 {\n            background-color:  #4b64d5;\n            color:  #f1f1f1;\n        }    #T_635f993a_160c_11eb_9886_8cc84bff9692row10_col2 {\n            background-color:  #455cce;\n            color:  #f1f1f1;\n        }    #T_635f993a_160c_11eb_9886_8cc84bff9692row10_col3 {\n            background-color:  #98b9ff;\n            color:  #000000;\n        }    #T_635f993a_160c_11eb_9886_8cc84bff9692row10_col4 {\n            background-color:  #6a8bef;\n            color:  #000000;\n        }    #T_635f993a_160c_11eb_9886_8cc84bff9692row10_col5 {\n            background-color:  #3d50c3;\n            color:  #f1f1f1;\n        }    #T_635f993a_160c_11eb_9886_8cc84bff9692row10_col6 {\n            background-color:  #b3cdfb;\n            color:  #000000;\n        }    #T_635f993a_160c_11eb_9886_8cc84bff9692row10_col7 {\n            background-color:  #6485ec;\n            color:  #000000;\n        }    #T_635f993a_160c_11eb_9886_8cc84bff9692row10_col8 {\n            background-color:  #000000;\n            color:  #f1f1f1;\n        }    #T_635f993a_160c_11eb_9886_8cc84bff9692row10_col9 {\n            background-color:  #dddcdc;\n            color:  #000000;\n        }    #T_635f993a_160c_11eb_9886_8cc84bff9692row10_col10 {\n            background-color:  #b40426;\n            color:  #f1f1f1;\n        }    #T_635f993a_160c_11eb_9886_8cc84bff9692row10_col11 {\n            background-color:  #4055c8;\n            color:  #f1f1f1;\n        }    #T_635f993a_160c_11eb_9886_8cc84bff9692row10_col12 {\n            background-color:  #6b8df0;\n            color:  #000000;\n        }    #T_635f993a_160c_11eb_9886_8cc84bff9692row11_col0 {\n            background-color:  #5875e1;\n            color:  #000000;\n        }    #T_635f993a_160c_11eb_9886_8cc84bff9692row11_col1 {\n            background-color:  #455cce;\n            color:  #f1f1f1;\n        }    #T_635f993a_160c_11eb_9886_8cc84bff9692row11_col2 {\n            background-color:  #5977e3;\n            color:  #000000;\n        }    #T_635f993a_160c_11eb_9886_8cc84bff9692row11_col3 {\n            background-color:  #5977e3;\n            color:  #000000;\n        }    #T_635f993a_160c_11eb_9886_8cc84bff9692row11_col4 {\n            background-color:  #3d50c3;\n            color:  #f1f1f1;\n        }    #T_635f993a_160c_11eb_9886_8cc84bff9692row11_col5 {\n            background-color:  #5b7ae5;\n            color:  #000000;\n        }    #T_635f993a_160c_11eb_9886_8cc84bff9692row11_col6 {\n            background-color:  #3b4cc0;\n            color:  #f1f1f1;\n        }    #T_635f993a_160c_11eb_9886_8cc84bff9692row11_col7 {\n            background-color:  #4c66d6;\n            color:  #000000;\n        }    #T_635f993a_160c_11eb_9886_8cc84bff9692row11_col8 {\n            background-color:  #000000;\n            color:  #f1f1f1;\n        }    #T_635f993a_160c_11eb_9886_8cc84bff9692row11_col9 {\n            background-color:  #3b4cc0;\n            color:  #f1f1f1;\n        }    #T_635f993a_160c_11eb_9886_8cc84bff9692row11_col10 {\n            background-color:  #3b4cc0;\n            color:  #f1f1f1;\n        }    #T_635f993a_160c_11eb_9886_8cc84bff9692row11_col11 {\n            background-color:  #b40426;\n            color:  #f1f1f1;\n        }    #T_635f993a_160c_11eb_9886_8cc84bff9692row11_col12 {\n            background-color:  #4257c9;\n            color:  #f1f1f1;\n        }    #T_635f993a_160c_11eb_9886_8cc84bff9692row12_col0 {\n            background-color:  #a3c2fe;\n            color:  #000000;\n        }    #T_635f993a_160c_11eb_9886_8cc84bff9692row12_col1 {\n            background-color:  #a3c2fe;\n            color:  #000000;\n        }    #T_635f993a_160c_11eb_9886_8cc84bff9692row12_col2 {\n            background-color:  #5b7ae5;\n            color:  #000000;\n        }    #T_635f993a_160c_11eb_9886_8cc84bff9692row12_col3 {\n            background-color:  #b5cdfa;\n            color:  #000000;\n        }    #T_635f993a_160c_11eb_9886_8cc84bff9692row12_col4 {\n            background-color:  #6180e9;\n            color:  #000000;\n        }    #T_635f993a_160c_11eb_9886_8cc84bff9692row12_col5 {\n            background-color:  #9bbcff;\n            color:  #000000;\n        }    #T_635f993a_160c_11eb_9886_8cc84bff9692row12_col6 {\n            background-color:  #d8dce2;\n            color:  #000000;\n        }    #T_635f993a_160c_11eb_9886_8cc84bff9692row12_col7 {\n            background-color:  #5f7fe8;\n            color:  #000000;\n        }    #T_635f993a_160c_11eb_9886_8cc84bff9692row12_col8 {\n            background-color:  #000000;\n            color:  #f1f1f1;\n        }    #T_635f993a_160c_11eb_9886_8cc84bff9692row12_col9 {\n            background-color:  #7699f6;\n            color:  #000000;\n        }    #T_635f993a_160c_11eb_9886_8cc84bff9692row12_col10 {\n            background-color:  #84a7fc;\n            color:  #000000;\n        }    #T_635f993a_160c_11eb_9886_8cc84bff9692row12_col11 {\n            background-color:  #6282ea;\n            color:  #000000;\n        }    #T_635f993a_160c_11eb_9886_8cc84bff9692row12_col12 {\n            background-color:  #b40426;\n            color:  #f1f1f1;\n        }</style><table id=\"T_635f993a_160c_11eb_9886_8cc84bff9692\" ><thead>    <tr>        <th class=\"blank level0\" ></th>        <th class=\"col_heading level0 col0\" >Age</th>        <th class=\"col_heading level0 col1\" >HealthFactor1</th>        <th class=\"col_heading level0 col2\" >HealthFactor2</th>        <th class=\"col_heading level0 col3\" >BMI</th>        <th class=\"col_heading level0 col4\" >DiabetesPedigreeFunction</th>        <th class=\"col_heading level0 col5\" >Pregnancies</th>        <th class=\"col_heading level0 col6\" >Glucose</th>        <th class=\"col_heading level0 col7\" >BloodPressure</th>        <th class=\"col_heading level0 col8\" >PreviousSurgery</th>        <th class=\"col_heading level0 col9\" >SkinThickness</th>        <th class=\"col_heading level0 col10\" >Insulin</th>        <th class=\"col_heading level0 col11\" >Inheritance</th>        <th class=\"col_heading level0 col12\" >Outcome</th>    </tr></thead><tbody>\n                <tr>\n                        <th id=\"T_635f993a_160c_11eb_9886_8cc84bff9692level0_row0\" class=\"row_heading level0 row0\" >Age</th>\n                        <td id=\"T_635f993a_160c_11eb_9886_8cc84bff9692row0_col0\" class=\"data row0 col0\" >1.000000</td>\n                        <td id=\"T_635f993a_160c_11eb_9886_8cc84bff9692row0_col1\" class=\"data row0 col1\" >0.986353</td>\n                        <td id=\"T_635f993a_160c_11eb_9886_8cc84bff9692row0_col2\" class=\"data row0 col2\" >-0.011730</td>\n                        <td id=\"T_635f993a_160c_11eb_9886_8cc84bff9692row0_col3\" class=\"data row0 col3\" >0.026066</td>\n                        <td id=\"T_635f993a_160c_11eb_9886_8cc84bff9692row0_col4\" class=\"data row0 col4\" >-0.020133</td>\n                        <td id=\"T_635f993a_160c_11eb_9886_8cc84bff9692row0_col5\" class=\"data row0 col5\" >0.540127</td>\n                        <td id=\"T_635f993a_160c_11eb_9886_8cc84bff9692row0_col6\" class=\"data row0 col6\" >0.275171</td>\n                        <td id=\"T_635f993a_160c_11eb_9886_8cc84bff9692row0_col7\" class=\"data row0 col7\" >0.240425</td>\n                        <td id=\"T_635f993a_160c_11eb_9886_8cc84bff9692row0_col8\" class=\"data row0 col8\" >nan</td>\n                        <td id=\"T_635f993a_160c_11eb_9886_8cc84bff9692row0_col9\" class=\"data row0 col9\" >-0.113536</td>\n                        <td id=\"T_635f993a_160c_11eb_9886_8cc84bff9692row0_col10\" class=\"data row0 col10\" >-0.018745</td>\n                        <td id=\"T_635f993a_160c_11eb_9886_8cc84bff9692row0_col11\" class=\"data row0 col11\" >-0.005511</td>\n                        <td id=\"T_635f993a_160c_11eb_9886_8cc84bff9692row0_col12\" class=\"data row0 col12\" >0.238175</td>\n            </tr>\n            <tr>\n                        <th id=\"T_635f993a_160c_11eb_9886_8cc84bff9692level0_row1\" class=\"row_heading level0 row1\" >HealthFactor1</th>\n                        <td id=\"T_635f993a_160c_11eb_9886_8cc84bff9692row1_col0\" class=\"data row1 col0\" >0.986353</td>\n                        <td id=\"T_635f993a_160c_11eb_9886_8cc84bff9692row1_col1\" class=\"data row1 col1\" >1.000000</td>\n                        <td id=\"T_635f993a_160c_11eb_9886_8cc84bff9692row1_col2\" class=\"data row1 col2\" >-0.033591</td>\n                        <td id=\"T_635f993a_160c_11eb_9886_8cc84bff9692row1_col3\" class=\"data row1 col3\" >0.190297</td>\n                        <td id=\"T_635f993a_160c_11eb_9886_8cc84bff9692row1_col4\" class=\"data row1 col4\" >-0.010066</td>\n                        <td id=\"T_635f993a_160c_11eb_9886_8cc84bff9692row1_col5\" class=\"data row1 col5\" >0.531146</td>\n                        <td id=\"T_635f993a_160c_11eb_9886_8cc84bff9692row1_col6\" class=\"data row1 col6\" >0.305851</td>\n                        <td id=\"T_635f993a_160c_11eb_9886_8cc84bff9692row1_col7\" class=\"data row1 col7\" >0.278586</td>\n                        <td id=\"T_635f993a_160c_11eb_9886_8cc84bff9692row1_col8\" class=\"data row1 col8\" >nan</td>\n                        <td id=\"T_635f993a_160c_11eb_9886_8cc84bff9692row1_col9\" class=\"data row1 col9\" >-0.047240</td>\n                        <td id=\"T_635f993a_160c_11eb_9886_8cc84bff9692row1_col10\" class=\"data row1 col10\" >0.012624</td>\n                        <td id=\"T_635f993a_160c_11eb_9886_8cc84bff9692row1_col11\" class=\"data row1 col11\" >-0.009429</td>\n                        <td id=\"T_635f993a_160c_11eb_9886_8cc84bff9692row1_col12\" class=\"data row1 col12\" >0.280172</td>\n            </tr>\n            <tr>\n                        <th id=\"T_635f993a_160c_11eb_9886_8cc84bff9692level0_row2\" class=\"row_heading level0 row2\" >HealthFactor2</th>\n                        <td id=\"T_635f993a_160c_11eb_9886_8cc84bff9692row2_col0\" class=\"data row2 col0\" >-0.011730</td>\n                        <td id=\"T_635f993a_160c_11eb_9886_8cc84bff9692row2_col1\" class=\"data row2 col1\" >-0.033591</td>\n                        <td id=\"T_635f993a_160c_11eb_9886_8cc84bff9692row2_col2\" class=\"data row2 col2\" >1.000000</td>\n                        <td id=\"T_635f993a_160c_11eb_9886_8cc84bff9692row2_col3\" class=\"data row2 col3\" >-0.134904</td>\n                        <td id=\"T_635f993a_160c_11eb_9886_8cc84bff9692row2_col4\" class=\"data row2 col4\" >0.038598</td>\n                        <td id=\"T_635f993a_160c_11eb_9886_8cc84bff9692row2_col5\" class=\"data row2 col5\" >0.014421</td>\n                        <td id=\"T_635f993a_160c_11eb_9886_8cc84bff9692row2_col6\" class=\"data row2 col6\" >-0.021249</td>\n                        <td id=\"T_635f993a_160c_11eb_9886_8cc84bff9692row2_col7\" class=\"data row2 col7\" >-0.064042</td>\n                        <td id=\"T_635f993a_160c_11eb_9886_8cc84bff9692row2_col8\" class=\"data row2 col8\" >nan</td>\n                        <td id=\"T_635f993a_160c_11eb_9886_8cc84bff9692row2_col9\" class=\"data row2 col9\" >-0.102973</td>\n                        <td id=\"T_635f993a_160c_11eb_9886_8cc84bff9692row2_col10\" class=\"data row2 col10\" >-0.094756</td>\n                        <td id=\"T_635f993a_160c_11eb_9886_8cc84bff9692row2_col11\" class=\"data row2 col11\" >-0.022908</td>\n                        <td id=\"T_635f993a_160c_11eb_9886_8cc84bff9692row2_col12\" class=\"data row2 col12\" >-0.012707</td>\n            </tr>\n            <tr>\n                        <th id=\"T_635f993a_160c_11eb_9886_8cc84bff9692level0_row3\" class=\"row_heading level0 row3\" >BMI</th>\n                        <td id=\"T_635f993a_160c_11eb_9886_8cc84bff9692row3_col0\" class=\"data row3 col0\" >0.026066</td>\n                        <td id=\"T_635f993a_160c_11eb_9886_8cc84bff9692row3_col1\" class=\"data row3 col1\" >0.190297</td>\n                        <td id=\"T_635f993a_160c_11eb_9886_8cc84bff9692row3_col2\" class=\"data row3 col2\" >-0.134904</td>\n                        <td id=\"T_635f993a_160c_11eb_9886_8cc84bff9692row3_col3\" class=\"data row3 col3\" >1.000000</td>\n                        <td id=\"T_635f993a_160c_11eb_9886_8cc84bff9692row3_col4\" class=\"data row3 col4\" >0.058930</td>\n                        <td id=\"T_635f993a_160c_11eb_9886_8cc84bff9692row3_col5\" class=\"data row3 col5\" >0.004304</td>\n                        <td id=\"T_635f993a_160c_11eb_9886_8cc84bff9692row3_col6\" class=\"data row3 col6\" >0.216251</td>\n                        <td id=\"T_635f993a_160c_11eb_9886_8cc84bff9692row3_col7\" class=\"data row3 col7\" >0.257889</td>\n                        <td id=\"T_635f993a_160c_11eb_9886_8cc84bff9692row3_col8\" class=\"data row3 col8\" >nan</td>\n                        <td id=\"T_635f993a_160c_11eb_9886_8cc84bff9692row3_col9\" class=\"data row3 col9\" >0.390166</td>\n                        <td id=\"T_635f993a_160c_11eb_9886_8cc84bff9692row3_col10\" class=\"data row3 col10\" >0.188423</td>\n                        <td id=\"T_635f993a_160c_11eb_9886_8cc84bff9692row3_col11\" class=\"data row3 col11\" >-0.022819</td>\n                        <td id=\"T_635f993a_160c_11eb_9886_8cc84bff9692row3_col12\" class=\"data row3 col12\" >0.280936</td>\n            </tr>\n            <tr>\n                        <th id=\"T_635f993a_160c_11eb_9886_8cc84bff9692level0_row4\" class=\"row_heading level0 row4\" >DiabetesPedigreeFunction</th>\n                        <td id=\"T_635f993a_160c_11eb_9886_8cc84bff9692row4_col0\" class=\"data row4 col0\" >-0.020133</td>\n                        <td id=\"T_635f993a_160c_11eb_9886_8cc84bff9692row4_col1\" class=\"data row4 col1\" >-0.010066</td>\n                        <td id=\"T_635f993a_160c_11eb_9886_8cc84bff9692row4_col2\" class=\"data row4 col2\" >0.038598</td>\n                        <td id=\"T_635f993a_160c_11eb_9886_8cc84bff9692row4_col3\" class=\"data row4 col3\" >0.058930</td>\n                        <td id=\"T_635f993a_160c_11eb_9886_8cc84bff9692row4_col4\" class=\"data row4 col4\" >1.000000</td>\n                        <td id=\"T_635f993a_160c_11eb_9886_8cc84bff9692row4_col5\" class=\"data row4 col5\" >-0.034349</td>\n                        <td id=\"T_635f993a_160c_11eb_9886_8cc84bff9692row4_col6\" class=\"data row4 col6\" >0.022784</td>\n                        <td id=\"T_635f993a_160c_11eb_9886_8cc84bff9692row4_col7\" class=\"data row4 col7\" >-0.008518</td>\n                        <td id=\"T_635f993a_160c_11eb_9886_8cc84bff9692row4_col8\" class=\"data row4 col8\" >nan</td>\n                        <td id=\"T_635f993a_160c_11eb_9886_8cc84bff9692row4_col9\" class=\"data row4 col9\" >0.107349</td>\n                        <td id=\"T_635f993a_160c_11eb_9886_8cc84bff9692row4_col10\" class=\"data row4 col10\" >0.122489</td>\n                        <td id=\"T_635f993a_160c_11eb_9886_8cc84bff9692row4_col11\" class=\"data row4 col11\" >-0.022449</td>\n                        <td id=\"T_635f993a_160c_11eb_9886_8cc84bff9692row4_col12\" class=\"data row4 col12\" >0.093618</td>\n            </tr>\n            <tr>\n                        <th id=\"T_635f993a_160c_11eb_9886_8cc84bff9692level0_row5\" class=\"row_heading level0 row5\" >Pregnancies</th>\n                        <td id=\"T_635f993a_160c_11eb_9886_8cc84bff9692row5_col0\" class=\"data row5 col0\" >0.540127</td>\n                        <td id=\"T_635f993a_160c_11eb_9886_8cc84bff9692row5_col1\" class=\"data row5 col1\" >0.531146</td>\n                        <td id=\"T_635f993a_160c_11eb_9886_8cc84bff9692row5_col2\" class=\"data row5 col2\" >0.014421</td>\n                        <td id=\"T_635f993a_160c_11eb_9886_8cc84bff9692row5_col3\" class=\"data row5 col3\" >0.004304</td>\n                        <td id=\"T_635f993a_160c_11eb_9886_8cc84bff9692row5_col4\" class=\"data row5 col4\" >-0.034349</td>\n                        <td id=\"T_635f993a_160c_11eb_9886_8cc84bff9692row5_col5\" class=\"data row5 col5\" >1.000000</td>\n                        <td id=\"T_635f993a_160c_11eb_9886_8cc84bff9692row5_col6\" class=\"data row5 col6\" >0.131023</td>\n                        <td id=\"T_635f993a_160c_11eb_9886_8cc84bff9692row5_col7\" class=\"data row5 col7\" >0.140953</td>\n                        <td id=\"T_635f993a_160c_11eb_9886_8cc84bff9692row5_col8\" class=\"data row5 col8\" >nan</td>\n                        <td id=\"T_635f993a_160c_11eb_9886_8cc84bff9692row5_col9\" class=\"data row5 col9\" >-0.101265</td>\n                        <td id=\"T_635f993a_160c_11eb_9886_8cc84bff9692row5_col10\" class=\"data row5 col10\" >-0.091575</td>\n                        <td id=\"T_635f993a_160c_11eb_9886_8cc84bff9692row5_col11\" class=\"data row5 col11\" >0.019051</td>\n                        <td id=\"T_635f993a_160c_11eb_9886_8cc84bff9692row5_col12\" class=\"data row5 col12\" >0.217109</td>\n            </tr>\n            <tr>\n                        <th id=\"T_635f993a_160c_11eb_9886_8cc84bff9692level0_row6\" class=\"row_heading level0 row6\" >Glucose</th>\n                        <td id=\"T_635f993a_160c_11eb_9886_8cc84bff9692row6_col0\" class=\"data row6 col0\" >0.275171</td>\n                        <td id=\"T_635f993a_160c_11eb_9886_8cc84bff9692row6_col1\" class=\"data row6 col1\" >0.305851</td>\n                        <td id=\"T_635f993a_160c_11eb_9886_8cc84bff9692row6_col2\" class=\"data row6 col2\" >-0.021249</td>\n                        <td id=\"T_635f993a_160c_11eb_9886_8cc84bff9692row6_col3\" class=\"data row6 col3\" >0.216251</td>\n                        <td id=\"T_635f993a_160c_11eb_9886_8cc84bff9692row6_col4\" class=\"data row6 col4\" >0.022784</td>\n                        <td id=\"T_635f993a_160c_11eb_9886_8cc84bff9692row6_col5\" class=\"data row6 col5\" >0.131023</td>\n                        <td id=\"T_635f993a_160c_11eb_9886_8cc84bff9692row6_col6\" class=\"data row6 col6\" >1.000000</td>\n                        <td id=\"T_635f993a_160c_11eb_9886_8cc84bff9692row6_col7\" class=\"data row6 col7\" >0.155191</td>\n                        <td id=\"T_635f993a_160c_11eb_9886_8cc84bff9692row6_col8\" class=\"data row6 col8\" >nan</td>\n                        <td id=\"T_635f993a_160c_11eb_9886_8cc84bff9692row6_col9\" class=\"data row6 col9\" >0.058374</td>\n                        <td id=\"T_635f993a_160c_11eb_9886_8cc84bff9692row6_col10\" class=\"data row6 col10\" >0.342454</td>\n                        <td id=\"T_635f993a_160c_11eb_9886_8cc84bff9692row6_col11\" class=\"data row6 col11\" >-0.030178</td>\n                        <td id=\"T_635f993a_160c_11eb_9886_8cc84bff9692row6_col12\" class=\"data row6 col12\" >0.467702</td>\n            </tr>\n            <tr>\n                        <th id=\"T_635f993a_160c_11eb_9886_8cc84bff9692level0_row7\" class=\"row_heading level0 row7\" >BloodPressure</th>\n                        <td id=\"T_635f993a_160c_11eb_9886_8cc84bff9692row7_col0\" class=\"data row7 col0\" >0.240425</td>\n                        <td id=\"T_635f993a_160c_11eb_9886_8cc84bff9692row7_col1\" class=\"data row7 col1\" >0.278586</td>\n                        <td id=\"T_635f993a_160c_11eb_9886_8cc84bff9692row7_col2\" class=\"data row7 col2\" >-0.064042</td>\n                        <td id=\"T_635f993a_160c_11eb_9886_8cc84bff9692row7_col3\" class=\"data row7 col3\" >0.257889</td>\n                        <td id=\"T_635f993a_160c_11eb_9886_8cc84bff9692row7_col4\" class=\"data row7 col4\" >-0.008518</td>\n                        <td id=\"T_635f993a_160c_11eb_9886_8cc84bff9692row7_col5\" class=\"data row7 col5\" >0.140953</td>\n                        <td id=\"T_635f993a_160c_11eb_9886_8cc84bff9692row7_col6\" class=\"data row7 col6\" >0.155191</td>\n                        <td id=\"T_635f993a_160c_11eb_9886_8cc84bff9692row7_col7\" class=\"data row7 col7\" >1.000000</td>\n                        <td id=\"T_635f993a_160c_11eb_9886_8cc84bff9692row7_col8\" class=\"data row7 col8\" >nan</td>\n                        <td id=\"T_635f993a_160c_11eb_9886_8cc84bff9692row7_col9\" class=\"data row7 col9\" >0.195655</td>\n                        <td id=\"T_635f993a_160c_11eb_9886_8cc84bff9692row7_col10\" class=\"data row7 col10\" >0.080238</td>\n                        <td id=\"T_635f993a_160c_11eb_9886_8cc84bff9692row7_col11\" class=\"data row7 col11\" >0.001158</td>\n                        <td id=\"T_635f993a_160c_11eb_9886_8cc84bff9692row7_col12\" class=\"data row7 col12\" >0.061076</td>\n            </tr>\n            <tr>\n                        <th id=\"T_635f993a_160c_11eb_9886_8cc84bff9692level0_row8\" class=\"row_heading level0 row8\" >PreviousSurgery</th>\n                        <td id=\"T_635f993a_160c_11eb_9886_8cc84bff9692row8_col0\" class=\"data row8 col0\" >nan</td>\n                        <td id=\"T_635f993a_160c_11eb_9886_8cc84bff9692row8_col1\" class=\"data row8 col1\" >nan</td>\n                        <td id=\"T_635f993a_160c_11eb_9886_8cc84bff9692row8_col2\" class=\"data row8 col2\" >nan</td>\n                        <td id=\"T_635f993a_160c_11eb_9886_8cc84bff9692row8_col3\" class=\"data row8 col3\" >nan</td>\n                        <td id=\"T_635f993a_160c_11eb_9886_8cc84bff9692row8_col4\" class=\"data row8 col4\" >nan</td>\n                        <td id=\"T_635f993a_160c_11eb_9886_8cc84bff9692row8_col5\" class=\"data row8 col5\" >nan</td>\n                        <td id=\"T_635f993a_160c_11eb_9886_8cc84bff9692row8_col6\" class=\"data row8 col6\" >nan</td>\n                        <td id=\"T_635f993a_160c_11eb_9886_8cc84bff9692row8_col7\" class=\"data row8 col7\" >nan</td>\n                        <td id=\"T_635f993a_160c_11eb_9886_8cc84bff9692row8_col8\" class=\"data row8 col8\" >nan</td>\n                        <td id=\"T_635f993a_160c_11eb_9886_8cc84bff9692row8_col9\" class=\"data row8 col9\" >nan</td>\n                        <td id=\"T_635f993a_160c_11eb_9886_8cc84bff9692row8_col10\" class=\"data row8 col10\" >nan</td>\n                        <td id=\"T_635f993a_160c_11eb_9886_8cc84bff9692row8_col11\" class=\"data row8 col11\" >nan</td>\n                        <td id=\"T_635f993a_160c_11eb_9886_8cc84bff9692row8_col12\" class=\"data row8 col12\" >nan</td>\n            </tr>\n            <tr>\n                        <th id=\"T_635f993a_160c_11eb_9886_8cc84bff9692level0_row9\" class=\"row_heading level0 row9\" >SkinThickness</th>\n                        <td id=\"T_635f993a_160c_11eb_9886_8cc84bff9692row9_col0\" class=\"data row9 col0\" >-0.113536</td>\n                        <td id=\"T_635f993a_160c_11eb_9886_8cc84bff9692row9_col1\" class=\"data row9 col1\" >-0.047240</td>\n                        <td id=\"T_635f993a_160c_11eb_9886_8cc84bff9692row9_col2\" class=\"data row9 col2\" >-0.102973</td>\n                        <td id=\"T_635f993a_160c_11eb_9886_8cc84bff9692row9_col3\" class=\"data row9 col3\" >0.390166</td>\n                        <td id=\"T_635f993a_160c_11eb_9886_8cc84bff9692row9_col4\" class=\"data row9 col4\" >0.107349</td>\n                        <td id=\"T_635f993a_160c_11eb_9886_8cc84bff9692row9_col5\" class=\"data row9 col5\" >-0.101265</td>\n                        <td id=\"T_635f993a_160c_11eb_9886_8cc84bff9692row9_col6\" class=\"data row9 col6\" >0.058374</td>\n                        <td id=\"T_635f993a_160c_11eb_9886_8cc84bff9692row9_col7\" class=\"data row9 col7\" >0.195655</td>\n                        <td id=\"T_635f993a_160c_11eb_9886_8cc84bff9692row9_col8\" class=\"data row9 col8\" >nan</td>\n                        <td id=\"T_635f993a_160c_11eb_9886_8cc84bff9692row9_col9\" class=\"data row9 col9\" >1.000000</td>\n                        <td id=\"T_635f993a_160c_11eb_9886_8cc84bff9692row9_col10\" class=\"data row9 col10\" >0.437676</td>\n                        <td id=\"T_635f993a_160c_11eb_9886_8cc84bff9692row9_col11\" class=\"data row9 col11\" >-0.129377</td>\n                        <td id=\"T_635f993a_160c_11eb_9886_8cc84bff9692row9_col12\" class=\"data row9 col12\" >0.079457</td>\n            </tr>\n            <tr>\n                        <th id=\"T_635f993a_160c_11eb_9886_8cc84bff9692level0_row10\" class=\"row_heading level0 row10\" >Insulin</th>\n                        <td id=\"T_635f993a_160c_11eb_9886_8cc84bff9692row10_col0\" class=\"data row10 col0\" >-0.018745</td>\n                        <td id=\"T_635f993a_160c_11eb_9886_8cc84bff9692row10_col1\" class=\"data row10 col1\" >0.012624</td>\n                        <td id=\"T_635f993a_160c_11eb_9886_8cc84bff9692row10_col2\" class=\"data row10 col2\" >-0.094756</td>\n                        <td id=\"T_635f993a_160c_11eb_9886_8cc84bff9692row10_col3\" class=\"data row10 col3\" >0.188423</td>\n                        <td id=\"T_635f993a_160c_11eb_9886_8cc84bff9692row10_col4\" class=\"data row10 col4\" >0.122489</td>\n                        <td id=\"T_635f993a_160c_11eb_9886_8cc84bff9692row10_col5\" class=\"data row10 col5\" >-0.091575</td>\n                        <td id=\"T_635f993a_160c_11eb_9886_8cc84bff9692row10_col6\" class=\"data row10 col6\" >0.342454</td>\n                        <td id=\"T_635f993a_160c_11eb_9886_8cc84bff9692row10_col7\" class=\"data row10 col7\" >0.080238</td>\n                        <td id=\"T_635f993a_160c_11eb_9886_8cc84bff9692row10_col8\" class=\"data row10 col8\" >nan</td>\n                        <td id=\"T_635f993a_160c_11eb_9886_8cc84bff9692row10_col9\" class=\"data row10 col9\" >0.437676</td>\n                        <td id=\"T_635f993a_160c_11eb_9886_8cc84bff9692row10_col10\" class=\"data row10 col10\" >1.000000</td>\n                        <td id=\"T_635f993a_160c_11eb_9886_8cc84bff9692row10_col11\" class=\"data row10 col11\" >-0.106263</td>\n                        <td id=\"T_635f993a_160c_11eb_9886_8cc84bff9692row10_col12\" class=\"data row10 col12\" >0.143254</td>\n            </tr>\n            <tr>\n                        <th id=\"T_635f993a_160c_11eb_9886_8cc84bff9692level0_row11\" class=\"row_heading level0 row11\" >Inheritance</th>\n                        <td id=\"T_635f993a_160c_11eb_9886_8cc84bff9692row11_col0\" class=\"data row11 col0\" >-0.005511</td>\n                        <td id=\"T_635f993a_160c_11eb_9886_8cc84bff9692row11_col1\" class=\"data row11 col1\" >-0.009429</td>\n                        <td id=\"T_635f993a_160c_11eb_9886_8cc84bff9692row11_col2\" class=\"data row11 col2\" >-0.022908</td>\n                        <td id=\"T_635f993a_160c_11eb_9886_8cc84bff9692row11_col3\" class=\"data row11 col3\" >-0.022819</td>\n                        <td id=\"T_635f993a_160c_11eb_9886_8cc84bff9692row11_col4\" class=\"data row11 col4\" >-0.022449</td>\n                        <td id=\"T_635f993a_160c_11eb_9886_8cc84bff9692row11_col5\" class=\"data row11 col5\" >0.019051</td>\n                        <td id=\"T_635f993a_160c_11eb_9886_8cc84bff9692row11_col6\" class=\"data row11 col6\" >-0.030178</td>\n                        <td id=\"T_635f993a_160c_11eb_9886_8cc84bff9692row11_col7\" class=\"data row11 col7\" >0.001158</td>\n                        <td id=\"T_635f993a_160c_11eb_9886_8cc84bff9692row11_col8\" class=\"data row11 col8\" >nan</td>\n                        <td id=\"T_635f993a_160c_11eb_9886_8cc84bff9692row11_col9\" class=\"data row11 col9\" >-0.129377</td>\n                        <td id=\"T_635f993a_160c_11eb_9886_8cc84bff9692row11_col10\" class=\"data row11 col10\" >-0.106263</td>\n                        <td id=\"T_635f993a_160c_11eb_9886_8cc84bff9692row11_col11\" class=\"data row11 col11\" >1.000000</td>\n                        <td id=\"T_635f993a_160c_11eb_9886_8cc84bff9692row11_col12\" class=\"data row11 col12\" >0.014972</td>\n            </tr>\n            <tr>\n                        <th id=\"T_635f993a_160c_11eb_9886_8cc84bff9692level0_row12\" class=\"row_heading level0 row12\" >Outcome</th>\n                        <td id=\"T_635f993a_160c_11eb_9886_8cc84bff9692row12_col0\" class=\"data row12 col0\" >0.238175</td>\n                        <td id=\"T_635f993a_160c_11eb_9886_8cc84bff9692row12_col1\" class=\"data row12 col1\" >0.280172</td>\n                        <td id=\"T_635f993a_160c_11eb_9886_8cc84bff9692row12_col2\" class=\"data row12 col2\" >-0.012707</td>\n                        <td id=\"T_635f993a_160c_11eb_9886_8cc84bff9692row12_col3\" class=\"data row12 col3\" >0.280936</td>\n                        <td id=\"T_635f993a_160c_11eb_9886_8cc84bff9692row12_col4\" class=\"data row12 col4\" >0.093618</td>\n                        <td id=\"T_635f993a_160c_11eb_9886_8cc84bff9692row12_col5\" class=\"data row12 col5\" >0.217109</td>\n                        <td id=\"T_635f993a_160c_11eb_9886_8cc84bff9692row12_col6\" class=\"data row12 col6\" >0.467702</td>\n                        <td id=\"T_635f993a_160c_11eb_9886_8cc84bff9692row12_col7\" class=\"data row12 col7\" >0.061076</td>\n                        <td id=\"T_635f993a_160c_11eb_9886_8cc84bff9692row12_col8\" class=\"data row12 col8\" >nan</td>\n                        <td id=\"T_635f993a_160c_11eb_9886_8cc84bff9692row12_col9\" class=\"data row12 col9\" >0.079457</td>\n                        <td id=\"T_635f993a_160c_11eb_9886_8cc84bff9692row12_col10\" class=\"data row12 col10\" >0.143254</td>\n                        <td id=\"T_635f993a_160c_11eb_9886_8cc84bff9692row12_col11\" class=\"data row12 col11\" >0.014972</td>\n                        <td id=\"T_635f993a_160c_11eb_9886_8cc84bff9692row12_col12\" class=\"data row12 col12\" >1.000000</td>\n            </tr>\n    </tbody></table>"
     },
     "metadata": {},
     "execution_count": 2
    }
   ],
   "source": [
    "corr = df.corr()\n",
    "corr.style.background_gradient(cmap='coolwarm')"
   ]
  },
  {
   "source": [
    "\n",
    "Buscando os dados faltantes, obtemos 403 registros\n"
   ],
   "cell_type": "markdown",
   "metadata": {}
  },
  {
   "cell_type": "code",
   "execution_count": 3,
   "metadata": {},
   "outputs": [
    {
     "output_type": "execute_result",
     "data": {
      "text/plain": [
       "         Age  HealthFactor1  HealthFactor2   BMI  DiabetesPedigreeFunction  \\\n",
       "Patient                                                                      \n",
       "p1        50          46.72          176.0  33.6                   627.000   \n",
       "p4        21          22.42          125.0  28.1                   167.000   \n",
       "p5        33          35.02            NaN  43.1                     2.288   \n",
       "p12       34          34.80          180.0  38.0                   537.000   \n",
       "p13       57          51.02           57.0  27.1                     1.441   \n",
       "...      ...            ...            ...   ...                       ...   \n",
       "p790      41          39.02          180.0  31.1                   205.000   \n",
       "p791      43          42.28          107.0  39.4                   257.000   \n",
       "p795      60          55.20          117.0  36.0                   546.000   \n",
       "p796      28          28.72           99.0  31.6                   851.000   \n",
       "p798      28          26.38           84.0  19.9                   188.000   \n",
       "\n",
       "         Pregnancies  Glucose  BloodPressure  PreviousSurgery  SkinThickness  \\\n",
       "Patient                                                                        \n",
       "p1                 6      148             72              0.0             35   \n",
       "p4                 1       89             66              0.0             23   \n",
       "p5                 0      137             40              0.0             35   \n",
       "p12               10      168             74              0.0              0   \n",
       "p13               10      139             80              0.0              0   \n",
       "...              ...      ...            ...              ...            ...   \n",
       "p790              10      125             70              NaN             26   \n",
       "p791               7      147             76              NaN              0   \n",
       "p795               5      109             75              0.0             26   \n",
       "p796               3      158             76              0.0             36   \n",
       "p798               6       92             92              0.0              0   \n",
       "\n",
       "         Insulin  Inheritance  Outcome  \n",
       "Patient                                 \n",
       "p1             0          NaN        1  \n",
       "p4            94          NaN        0  \n",
       "p5           168          0.0        1  \n",
       "p12            0          NaN        1  \n",
       "p13            0          NaN        0  \n",
       "...          ...          ...      ...  \n",
       "p790         115          NaN        1  \n",
       "p791           0          1.0        1  \n",
       "p795           0          NaN        0  \n",
       "p796         245          NaN        1  \n",
       "p798           0          NaN        0  \n",
       "\n",
       "[403 rows x 13 columns]"
      ],
      "text/html": "<div>\n<style scoped>\n    .dataframe tbody tr th:only-of-type {\n        vertical-align: middle;\n    }\n\n    .dataframe tbody tr th {\n        vertical-align: top;\n    }\n\n    .dataframe thead th {\n        text-align: right;\n    }\n</style>\n<table border=\"1\" class=\"dataframe\">\n  <thead>\n    <tr style=\"text-align: right;\">\n      <th></th>\n      <th>Age</th>\n      <th>HealthFactor1</th>\n      <th>HealthFactor2</th>\n      <th>BMI</th>\n      <th>DiabetesPedigreeFunction</th>\n      <th>Pregnancies</th>\n      <th>Glucose</th>\n      <th>BloodPressure</th>\n      <th>PreviousSurgery</th>\n      <th>SkinThickness</th>\n      <th>Insulin</th>\n      <th>Inheritance</th>\n      <th>Outcome</th>\n    </tr>\n    <tr>\n      <th>Patient</th>\n      <th></th>\n      <th></th>\n      <th></th>\n      <th></th>\n      <th></th>\n      <th></th>\n      <th></th>\n      <th></th>\n      <th></th>\n      <th></th>\n      <th></th>\n      <th></th>\n      <th></th>\n    </tr>\n  </thead>\n  <tbody>\n    <tr>\n      <th>p1</th>\n      <td>50</td>\n      <td>46.72</td>\n      <td>176.0</td>\n      <td>33.6</td>\n      <td>627.000</td>\n      <td>6</td>\n      <td>148</td>\n      <td>72</td>\n      <td>0.0</td>\n      <td>35</td>\n      <td>0</td>\n      <td>NaN</td>\n      <td>1</td>\n    </tr>\n    <tr>\n      <th>p4</th>\n      <td>21</td>\n      <td>22.42</td>\n      <td>125.0</td>\n      <td>28.1</td>\n      <td>167.000</td>\n      <td>1</td>\n      <td>89</td>\n      <td>66</td>\n      <td>0.0</td>\n      <td>23</td>\n      <td>94</td>\n      <td>NaN</td>\n      <td>0</td>\n    </tr>\n    <tr>\n      <th>p5</th>\n      <td>33</td>\n      <td>35.02</td>\n      <td>NaN</td>\n      <td>43.1</td>\n      <td>2.288</td>\n      <td>0</td>\n      <td>137</td>\n      <td>40</td>\n      <td>0.0</td>\n      <td>35</td>\n      <td>168</td>\n      <td>0.0</td>\n      <td>1</td>\n    </tr>\n    <tr>\n      <th>p12</th>\n      <td>34</td>\n      <td>34.80</td>\n      <td>180.0</td>\n      <td>38.0</td>\n      <td>537.000</td>\n      <td>10</td>\n      <td>168</td>\n      <td>74</td>\n      <td>0.0</td>\n      <td>0</td>\n      <td>0</td>\n      <td>NaN</td>\n      <td>1</td>\n    </tr>\n    <tr>\n      <th>p13</th>\n      <td>57</td>\n      <td>51.02</td>\n      <td>57.0</td>\n      <td>27.1</td>\n      <td>1.441</td>\n      <td>10</td>\n      <td>139</td>\n      <td>80</td>\n      <td>0.0</td>\n      <td>0</td>\n      <td>0</td>\n      <td>NaN</td>\n      <td>0</td>\n    </tr>\n    <tr>\n      <th>...</th>\n      <td>...</td>\n      <td>...</td>\n      <td>...</td>\n      <td>...</td>\n      <td>...</td>\n      <td>...</td>\n      <td>...</td>\n      <td>...</td>\n      <td>...</td>\n      <td>...</td>\n      <td>...</td>\n      <td>...</td>\n      <td>...</td>\n    </tr>\n    <tr>\n      <th>p790</th>\n      <td>41</td>\n      <td>39.02</td>\n      <td>180.0</td>\n      <td>31.1</td>\n      <td>205.000</td>\n      <td>10</td>\n      <td>125</td>\n      <td>70</td>\n      <td>NaN</td>\n      <td>26</td>\n      <td>115</td>\n      <td>NaN</td>\n      <td>1</td>\n    </tr>\n    <tr>\n      <th>p791</th>\n      <td>43</td>\n      <td>42.28</td>\n      <td>107.0</td>\n      <td>39.4</td>\n      <td>257.000</td>\n      <td>7</td>\n      <td>147</td>\n      <td>76</td>\n      <td>NaN</td>\n      <td>0</td>\n      <td>0</td>\n      <td>1.0</td>\n      <td>1</td>\n    </tr>\n    <tr>\n      <th>p795</th>\n      <td>60</td>\n      <td>55.20</td>\n      <td>117.0</td>\n      <td>36.0</td>\n      <td>546.000</td>\n      <td>5</td>\n      <td>109</td>\n      <td>75</td>\n      <td>0.0</td>\n      <td>26</td>\n      <td>0</td>\n      <td>NaN</td>\n      <td>0</td>\n    </tr>\n    <tr>\n      <th>p796</th>\n      <td>28</td>\n      <td>28.72</td>\n      <td>99.0</td>\n      <td>31.6</td>\n      <td>851.000</td>\n      <td>3</td>\n      <td>158</td>\n      <td>76</td>\n      <td>0.0</td>\n      <td>36</td>\n      <td>245</td>\n      <td>NaN</td>\n      <td>1</td>\n    </tr>\n    <tr>\n      <th>p798</th>\n      <td>28</td>\n      <td>26.38</td>\n      <td>84.0</td>\n      <td>19.9</td>\n      <td>188.000</td>\n      <td>6</td>\n      <td>92</td>\n      <td>92</td>\n      <td>0.0</td>\n      <td>0</td>\n      <td>0</td>\n      <td>NaN</td>\n      <td>0</td>\n    </tr>\n  </tbody>\n</table>\n<p>403 rows × 13 columns</p>\n</div>"
     },
     "metadata": {},
     "execution_count": 3
    }
   ],
   "source": [
    "rows_with_null_data = df[df.isnull().any(axis=1)]\n",
    "rows_with_null_data"
   ]
  },
  {
   "source": [
    "Porém, analisando por colunas, percebemos que há uma concentração em certas colunas, enquanto a maioria das colunas estão completamente preenchidas. Optou-se portanto por remover a coluna Inheritance por completo, pois possuia ausência em metade dos dados disponíveis. Removemos também os registros faltantes de HealthFactor2, já que eram somente 11 registros.\n"
   ],
   "cell_type": "markdown",
   "metadata": {}
  },
  {
   "cell_type": "code",
   "execution_count": 4,
   "metadata": {},
   "outputs": [
    {
     "output_type": "execute_result",
     "data": {
      "text/plain": [
       "Age                           0\n",
       "HealthFactor1                 0\n",
       "HealthFactor2                11\n",
       "BMI                           0\n",
       "DiabetesPedigreeFunction      0\n",
       "Pregnancies                   0\n",
       "Glucose                       0\n",
       "BloodPressure                 0\n",
       "PreviousSurgery              46\n",
       "SkinThickness                 0\n",
       "Insulin                       0\n",
       "Inheritance                 369\n",
       "Outcome                       0\n",
       "dtype: int64"
      ]
     },
     "metadata": {},
     "execution_count": 4
    }
   ],
   "source": [
    "df.isna().sum()"
   ]
  },
  {
   "source": [
    "Analisando os dados de PreviousSurgery, onde já se viu que há 46 dados faltantes, e o vemos que todos os outros registros têm valor 0. Optou-se por remover esta coluna. Finalmente, ficamos com 787 registros com 9 características.\n"
   ],
   "cell_type": "markdown",
   "metadata": {}
  },
  {
   "cell_type": "code",
   "execution_count": 5,
   "metadata": {},
   "outputs": [
    {
     "output_type": "execute_result",
     "data": {
      "text/plain": [
       "         Age  HealthFactor2   BMI  DiabetesPedigreeFunction  Pregnancies  \\\n",
       "Patient                                                                    \n",
       "p1        50          176.0  33.6                     627.0            6   \n",
       "p2        31          160.0  26.6                     351.0            1   \n",
       "p3        32           88.0  23.3                     672.0            8   \n",
       "p4        21          125.0  28.1                     167.0            1   \n",
       "p6        30          126.0  25.6                     201.0            5   \n",
       "...      ...            ...   ...                       ...          ...   \n",
       "p794      38           86.0  34.1                     337.0            5   \n",
       "p795      60          117.0  36.0                     546.0            5   \n",
       "p796      28           99.0  31.6                     851.0            3   \n",
       "p797      22          109.0  24.8                     267.0            3   \n",
       "p798      28           84.0  19.9                     188.0            6   \n",
       "\n",
       "         Glucose  BloodPressure  PreviousSurgery  SkinThickness  Insulin  \\\n",
       "Patient                                                                    \n",
       "p1           148             72              0.0             35        0   \n",
       "p2            85             66              0.0             29        0   \n",
       "p3           183             64              0.0              0        0   \n",
       "p4            89             66              0.0             23       94   \n",
       "p6           116             74              0.0              0        0   \n",
       "...          ...            ...              ...            ...      ...   \n",
       "p794         117             92              0.0              0        0   \n",
       "p795         109             75              0.0             26        0   \n",
       "p796         158             76              0.0             36      245   \n",
       "p797          88             58              0.0             11       54   \n",
       "p798          92             92              0.0              0        0   \n",
       "\n",
       "         Outcome  \n",
       "Patient           \n",
       "p1             1  \n",
       "p2             0  \n",
       "p3             1  \n",
       "p4             0  \n",
       "p6             0  \n",
       "...          ...  \n",
       "p794           0  \n",
       "p795           0  \n",
       "p796           1  \n",
       "p797           0  \n",
       "p798           0  \n",
       "\n",
       "[787 rows x 11 columns]"
      ],
      "text/html": "<div>\n<style scoped>\n    .dataframe tbody tr th:only-of-type {\n        vertical-align: middle;\n    }\n\n    .dataframe tbody tr th {\n        vertical-align: top;\n    }\n\n    .dataframe thead th {\n        text-align: right;\n    }\n</style>\n<table border=\"1\" class=\"dataframe\">\n  <thead>\n    <tr style=\"text-align: right;\">\n      <th></th>\n      <th>Age</th>\n      <th>HealthFactor2</th>\n      <th>BMI</th>\n      <th>DiabetesPedigreeFunction</th>\n      <th>Pregnancies</th>\n      <th>Glucose</th>\n      <th>BloodPressure</th>\n      <th>PreviousSurgery</th>\n      <th>SkinThickness</th>\n      <th>Insulin</th>\n      <th>Outcome</th>\n    </tr>\n    <tr>\n      <th>Patient</th>\n      <th></th>\n      <th></th>\n      <th></th>\n      <th></th>\n      <th></th>\n      <th></th>\n      <th></th>\n      <th></th>\n      <th></th>\n      <th></th>\n      <th></th>\n    </tr>\n  </thead>\n  <tbody>\n    <tr>\n      <th>p1</th>\n      <td>50</td>\n      <td>176.0</td>\n      <td>33.6</td>\n      <td>627.0</td>\n      <td>6</td>\n      <td>148</td>\n      <td>72</td>\n      <td>0.0</td>\n      <td>35</td>\n      <td>0</td>\n      <td>1</td>\n    </tr>\n    <tr>\n      <th>p2</th>\n      <td>31</td>\n      <td>160.0</td>\n      <td>26.6</td>\n      <td>351.0</td>\n      <td>1</td>\n      <td>85</td>\n      <td>66</td>\n      <td>0.0</td>\n      <td>29</td>\n      <td>0</td>\n      <td>0</td>\n    </tr>\n    <tr>\n      <th>p3</th>\n      <td>32</td>\n      <td>88.0</td>\n      <td>23.3</td>\n      <td>672.0</td>\n      <td>8</td>\n      <td>183</td>\n      <td>64</td>\n      <td>0.0</td>\n      <td>0</td>\n      <td>0</td>\n      <td>1</td>\n    </tr>\n    <tr>\n      <th>p4</th>\n      <td>21</td>\n      <td>125.0</td>\n      <td>28.1</td>\n      <td>167.0</td>\n      <td>1</td>\n      <td>89</td>\n      <td>66</td>\n      <td>0.0</td>\n      <td>23</td>\n      <td>94</td>\n      <td>0</td>\n    </tr>\n    <tr>\n      <th>p6</th>\n      <td>30</td>\n      <td>126.0</td>\n      <td>25.6</td>\n      <td>201.0</td>\n      <td>5</td>\n      <td>116</td>\n      <td>74</td>\n      <td>0.0</td>\n      <td>0</td>\n      <td>0</td>\n      <td>0</td>\n    </tr>\n    <tr>\n      <th>...</th>\n      <td>...</td>\n      <td>...</td>\n      <td>...</td>\n      <td>...</td>\n      <td>...</td>\n      <td>...</td>\n      <td>...</td>\n      <td>...</td>\n      <td>...</td>\n      <td>...</td>\n      <td>...</td>\n    </tr>\n    <tr>\n      <th>p794</th>\n      <td>38</td>\n      <td>86.0</td>\n      <td>34.1</td>\n      <td>337.0</td>\n      <td>5</td>\n      <td>117</td>\n      <td>92</td>\n      <td>0.0</td>\n      <td>0</td>\n      <td>0</td>\n      <td>0</td>\n    </tr>\n    <tr>\n      <th>p795</th>\n      <td>60</td>\n      <td>117.0</td>\n      <td>36.0</td>\n      <td>546.0</td>\n      <td>5</td>\n      <td>109</td>\n      <td>75</td>\n      <td>0.0</td>\n      <td>26</td>\n      <td>0</td>\n      <td>0</td>\n    </tr>\n    <tr>\n      <th>p796</th>\n      <td>28</td>\n      <td>99.0</td>\n      <td>31.6</td>\n      <td>851.0</td>\n      <td>3</td>\n      <td>158</td>\n      <td>76</td>\n      <td>0.0</td>\n      <td>36</td>\n      <td>245</td>\n      <td>1</td>\n    </tr>\n    <tr>\n      <th>p797</th>\n      <td>22</td>\n      <td>109.0</td>\n      <td>24.8</td>\n      <td>267.0</td>\n      <td>3</td>\n      <td>88</td>\n      <td>58</td>\n      <td>0.0</td>\n      <td>11</td>\n      <td>54</td>\n      <td>0</td>\n    </tr>\n    <tr>\n      <th>p798</th>\n      <td>28</td>\n      <td>84.0</td>\n      <td>19.9</td>\n      <td>188.0</td>\n      <td>6</td>\n      <td>92</td>\n      <td>92</td>\n      <td>0.0</td>\n      <td>0</td>\n      <td>0</td>\n      <td>0</td>\n    </tr>\n  </tbody>\n</table>\n<p>787 rows × 11 columns</p>\n</div>"
     },
     "metadata": {},
     "execution_count": 5
    }
   ],
   "source": [
    "df = df.drop(['Inheritance'], axis=1)\n",
    "df = df.drop(['HealthFactor1'], axis=1)\n",
    "df = df.dropna(subset=['HealthFactor2'])\n",
    "df"
   ]
  },
  {
   "cell_type": "code",
   "execution_count": 6,
   "metadata": {},
   "outputs": [
    {
     "output_type": "execute_result",
     "data": {
      "text/plain": [
       "                 Age  HealthFactor2  BMI  DiabetesPedigreeFunction  \\\n",
       "PreviousSurgery                                                      \n",
       "0.0              741            741  741                       741   \n",
       "\n",
       "                 Pregnancies  Glucose  BloodPressure  SkinThickness  Insulin  \\\n",
       "PreviousSurgery                                                                \n",
       "0.0                      741      741            741            741      741   \n",
       "\n",
       "                 Outcome  \n",
       "PreviousSurgery           \n",
       "0.0                  741  "
      ],
      "text/html": "<div>\n<style scoped>\n    .dataframe tbody tr th:only-of-type {\n        vertical-align: middle;\n    }\n\n    .dataframe tbody tr th {\n        vertical-align: top;\n    }\n\n    .dataframe thead th {\n        text-align: right;\n    }\n</style>\n<table border=\"1\" class=\"dataframe\">\n  <thead>\n    <tr style=\"text-align: right;\">\n      <th></th>\n      <th>Age</th>\n      <th>HealthFactor2</th>\n      <th>BMI</th>\n      <th>DiabetesPedigreeFunction</th>\n      <th>Pregnancies</th>\n      <th>Glucose</th>\n      <th>BloodPressure</th>\n      <th>SkinThickness</th>\n      <th>Insulin</th>\n      <th>Outcome</th>\n    </tr>\n    <tr>\n      <th>PreviousSurgery</th>\n      <th></th>\n      <th></th>\n      <th></th>\n      <th></th>\n      <th></th>\n      <th></th>\n      <th></th>\n      <th></th>\n      <th></th>\n      <th></th>\n    </tr>\n  </thead>\n  <tbody>\n    <tr>\n      <th>0.0</th>\n      <td>741</td>\n      <td>741</td>\n      <td>741</td>\n      <td>741</td>\n      <td>741</td>\n      <td>741</td>\n      <td>741</td>\n      <td>741</td>\n      <td>741</td>\n      <td>741</td>\n    </tr>\n  </tbody>\n</table>\n</div>"
     },
     "metadata": {},
     "execution_count": 6
    }
   ],
   "source": [
    "df = df.drop(['PreviousSurgery'], axis=1)\n",
    "df.groupby('PreviousSurgery').count()"
   ]
  },
  {
   "cell_type": "code",
   "execution_count": 7,
   "metadata": {},
   "outputs": [
    {
     "output_type": "execute_result",
     "data": {
      "text/plain": [
       "         Age  HealthFactor2   BMI  DiabetesPedigreeFunction  Pregnancies  \\\n",
       "Patient                                                                    \n",
       "p1        50          176.0  33.6                     627.0            6   \n",
       "p2        31          160.0  26.6                     351.0            1   \n",
       "p3        32           88.0  23.3                     672.0            8   \n",
       "p4        21          125.0  28.1                     167.0            1   \n",
       "p6        30          126.0  25.6                     201.0            5   \n",
       "...      ...            ...   ...                       ...          ...   \n",
       "p794      38           86.0  34.1                     337.0            5   \n",
       "p795      60          117.0  36.0                     546.0            5   \n",
       "p796      28           99.0  31.6                     851.0            3   \n",
       "p797      22          109.0  24.8                     267.0            3   \n",
       "p798      28           84.0  19.9                     188.0            6   \n",
       "\n",
       "         Glucose  BloodPressure  SkinThickness  Insulin  Outcome  \n",
       "Patient                                                           \n",
       "p1           148             72             35        0        1  \n",
       "p2            85             66             29        0        0  \n",
       "p3           183             64              0        0        1  \n",
       "p4            89             66             23       94        0  \n",
       "p6           116             74              0        0        0  \n",
       "...          ...            ...            ...      ...      ...  \n",
       "p794         117             92              0        0        0  \n",
       "p795         109             75             26        0        0  \n",
       "p796         158             76             36      245        1  \n",
       "p797          88             58             11       54        0  \n",
       "p798          92             92              0        0        0  \n",
       "\n",
       "[787 rows x 10 columns]"
      ],
      "text/html": "<div>\n<style scoped>\n    .dataframe tbody tr th:only-of-type {\n        vertical-align: middle;\n    }\n\n    .dataframe tbody tr th {\n        vertical-align: top;\n    }\n\n    .dataframe thead th {\n        text-align: right;\n    }\n</style>\n<table border=\"1\" class=\"dataframe\">\n  <thead>\n    <tr style=\"text-align: right;\">\n      <th></th>\n      <th>Age</th>\n      <th>HealthFactor2</th>\n      <th>BMI</th>\n      <th>DiabetesPedigreeFunction</th>\n      <th>Pregnancies</th>\n      <th>Glucose</th>\n      <th>BloodPressure</th>\n      <th>SkinThickness</th>\n      <th>Insulin</th>\n      <th>Outcome</th>\n    </tr>\n    <tr>\n      <th>Patient</th>\n      <th></th>\n      <th></th>\n      <th></th>\n      <th></th>\n      <th></th>\n      <th></th>\n      <th></th>\n      <th></th>\n      <th></th>\n      <th></th>\n    </tr>\n  </thead>\n  <tbody>\n    <tr>\n      <th>p1</th>\n      <td>50</td>\n      <td>176.0</td>\n      <td>33.6</td>\n      <td>627.0</td>\n      <td>6</td>\n      <td>148</td>\n      <td>72</td>\n      <td>35</td>\n      <td>0</td>\n      <td>1</td>\n    </tr>\n    <tr>\n      <th>p2</th>\n      <td>31</td>\n      <td>160.0</td>\n      <td>26.6</td>\n      <td>351.0</td>\n      <td>1</td>\n      <td>85</td>\n      <td>66</td>\n      <td>29</td>\n      <td>0</td>\n      <td>0</td>\n    </tr>\n    <tr>\n      <th>p3</th>\n      <td>32</td>\n      <td>88.0</td>\n      <td>23.3</td>\n      <td>672.0</td>\n      <td>8</td>\n      <td>183</td>\n      <td>64</td>\n      <td>0</td>\n      <td>0</td>\n      <td>1</td>\n    </tr>\n    <tr>\n      <th>p4</th>\n      <td>21</td>\n      <td>125.0</td>\n      <td>28.1</td>\n      <td>167.0</td>\n      <td>1</td>\n      <td>89</td>\n      <td>66</td>\n      <td>23</td>\n      <td>94</td>\n      <td>0</td>\n    </tr>\n    <tr>\n      <th>p6</th>\n      <td>30</td>\n      <td>126.0</td>\n      <td>25.6</td>\n      <td>201.0</td>\n      <td>5</td>\n      <td>116</td>\n      <td>74</td>\n      <td>0</td>\n      <td>0</td>\n      <td>0</td>\n    </tr>\n    <tr>\n      <th>...</th>\n      <td>...</td>\n      <td>...</td>\n      <td>...</td>\n      <td>...</td>\n      <td>...</td>\n      <td>...</td>\n      <td>...</td>\n      <td>...</td>\n      <td>...</td>\n      <td>...</td>\n    </tr>\n    <tr>\n      <th>p794</th>\n      <td>38</td>\n      <td>86.0</td>\n      <td>34.1</td>\n      <td>337.0</td>\n      <td>5</td>\n      <td>117</td>\n      <td>92</td>\n      <td>0</td>\n      <td>0</td>\n      <td>0</td>\n    </tr>\n    <tr>\n      <th>p795</th>\n      <td>60</td>\n      <td>117.0</td>\n      <td>36.0</td>\n      <td>546.0</td>\n      <td>5</td>\n      <td>109</td>\n      <td>75</td>\n      <td>26</td>\n      <td>0</td>\n      <td>0</td>\n    </tr>\n    <tr>\n      <th>p796</th>\n      <td>28</td>\n      <td>99.0</td>\n      <td>31.6</td>\n      <td>851.0</td>\n      <td>3</td>\n      <td>158</td>\n      <td>76</td>\n      <td>36</td>\n      <td>245</td>\n      <td>1</td>\n    </tr>\n    <tr>\n      <th>p797</th>\n      <td>22</td>\n      <td>109.0</td>\n      <td>24.8</td>\n      <td>267.0</td>\n      <td>3</td>\n      <td>88</td>\n      <td>58</td>\n      <td>11</td>\n      <td>54</td>\n      <td>0</td>\n    </tr>\n    <tr>\n      <th>p798</th>\n      <td>28</td>\n      <td>84.0</td>\n      <td>19.9</td>\n      <td>188.0</td>\n      <td>6</td>\n      <td>92</td>\n      <td>92</td>\n      <td>0</td>\n      <td>0</td>\n      <td>0</td>\n    </tr>\n  </tbody>\n</table>\n<p>787 rows × 10 columns</p>\n</div>"
     },
     "metadata": {},
     "execution_count": 7
    }
   ],
   "source": [
    "df"
   ]
  },
  {
   "source": [
    "Performou-se em seguida o escalonamento dos dados\n"
   ],
   "cell_type": "markdown",
   "metadata": {}
  },
  {
   "cell_type": "code",
   "execution_count": 8,
   "metadata": {},
   "outputs": [
    {
     "output_type": "execute_result",
     "data": {
      "text/plain": [
       "              Age  HealthFactor2       BMI  DiabetesPedigreeFunction  \\\n",
       "Patient                                                                \n",
       "p1       0.483333       0.879397  0.500745                  0.628849   \n",
       "p2       0.166667       0.798995  0.396423                  0.351991   \n",
       "p3       0.183333       0.437186  0.347243                  0.673989   \n",
       "p4       0.000000       0.623116  0.418778                  0.167419   \n",
       "p6       0.150000       0.628141  0.381520                  0.201525   \n",
       "...           ...            ...       ...                       ...   \n",
       "p794     0.283333       0.427136  0.508197                  0.337948   \n",
       "p795     0.650000       0.582915  0.536513                  0.547598   \n",
       "p796     0.116667       0.492462  0.470939                  0.853546   \n",
       "p797     0.016667       0.542714  0.369598                  0.267730   \n",
       "p798     0.116667       0.417085  0.296572                  0.188484   \n",
       "\n",
       "         Pregnancies   Glucose  BloodPressure  SkinThickness   Insulin  \\\n",
       "Patient                                                                  \n",
       "p1          0.352941  0.743719       0.590164       0.353535  0.000000   \n",
       "p2          0.058824  0.427136       0.540984       0.292929  0.000000   \n",
       "p3          0.470588  0.919598       0.524590       0.000000  0.000000   \n",
       "p4          0.058824  0.447236       0.540984       0.232323  0.111111   \n",
       "p6          0.294118  0.582915       0.606557       0.000000  0.000000   \n",
       "...              ...       ...            ...            ...       ...   \n",
       "p794        0.294118  0.587940       0.754098       0.000000  0.000000   \n",
       "p795        0.294118  0.547739       0.614754       0.262626  0.000000   \n",
       "p796        0.176471  0.793970       0.622951       0.363636  0.289598   \n",
       "p797        0.176471  0.442211       0.475410       0.111111  0.063830   \n",
       "p798        0.352941  0.462312       0.754098       0.000000  0.000000   \n",
       "\n",
       "         Outcome  \n",
       "Patient           \n",
       "p1             1  \n",
       "p2             0  \n",
       "p3             1  \n",
       "p4             0  \n",
       "p6             0  \n",
       "...          ...  \n",
       "p794           0  \n",
       "p795           0  \n",
       "p796           1  \n",
       "p797           0  \n",
       "p798           0  \n",
       "\n",
       "[787 rows x 10 columns]"
      ],
      "text/html": "<div>\n<style scoped>\n    .dataframe tbody tr th:only-of-type {\n        vertical-align: middle;\n    }\n\n    .dataframe tbody tr th {\n        vertical-align: top;\n    }\n\n    .dataframe thead th {\n        text-align: right;\n    }\n</style>\n<table border=\"1\" class=\"dataframe\">\n  <thead>\n    <tr style=\"text-align: right;\">\n      <th></th>\n      <th>Age</th>\n      <th>HealthFactor2</th>\n      <th>BMI</th>\n      <th>DiabetesPedigreeFunction</th>\n      <th>Pregnancies</th>\n      <th>Glucose</th>\n      <th>BloodPressure</th>\n      <th>SkinThickness</th>\n      <th>Insulin</th>\n      <th>Outcome</th>\n    </tr>\n    <tr>\n      <th>Patient</th>\n      <th></th>\n      <th></th>\n      <th></th>\n      <th></th>\n      <th></th>\n      <th></th>\n      <th></th>\n      <th></th>\n      <th></th>\n      <th></th>\n    </tr>\n  </thead>\n  <tbody>\n    <tr>\n      <th>p1</th>\n      <td>0.483333</td>\n      <td>0.879397</td>\n      <td>0.500745</td>\n      <td>0.628849</td>\n      <td>0.352941</td>\n      <td>0.743719</td>\n      <td>0.590164</td>\n      <td>0.353535</td>\n      <td>0.000000</td>\n      <td>1</td>\n    </tr>\n    <tr>\n      <th>p2</th>\n      <td>0.166667</td>\n      <td>0.798995</td>\n      <td>0.396423</td>\n      <td>0.351991</td>\n      <td>0.058824</td>\n      <td>0.427136</td>\n      <td>0.540984</td>\n      <td>0.292929</td>\n      <td>0.000000</td>\n      <td>0</td>\n    </tr>\n    <tr>\n      <th>p3</th>\n      <td>0.183333</td>\n      <td>0.437186</td>\n      <td>0.347243</td>\n      <td>0.673989</td>\n      <td>0.470588</td>\n      <td>0.919598</td>\n      <td>0.524590</td>\n      <td>0.000000</td>\n      <td>0.000000</td>\n      <td>1</td>\n    </tr>\n    <tr>\n      <th>p4</th>\n      <td>0.000000</td>\n      <td>0.623116</td>\n      <td>0.418778</td>\n      <td>0.167419</td>\n      <td>0.058824</td>\n      <td>0.447236</td>\n      <td>0.540984</td>\n      <td>0.232323</td>\n      <td>0.111111</td>\n      <td>0</td>\n    </tr>\n    <tr>\n      <th>p6</th>\n      <td>0.150000</td>\n      <td>0.628141</td>\n      <td>0.381520</td>\n      <td>0.201525</td>\n      <td>0.294118</td>\n      <td>0.582915</td>\n      <td>0.606557</td>\n      <td>0.000000</td>\n      <td>0.000000</td>\n      <td>0</td>\n    </tr>\n    <tr>\n      <th>...</th>\n      <td>...</td>\n      <td>...</td>\n      <td>...</td>\n      <td>...</td>\n      <td>...</td>\n      <td>...</td>\n      <td>...</td>\n      <td>...</td>\n      <td>...</td>\n      <td>...</td>\n    </tr>\n    <tr>\n      <th>p794</th>\n      <td>0.283333</td>\n      <td>0.427136</td>\n      <td>0.508197</td>\n      <td>0.337948</td>\n      <td>0.294118</td>\n      <td>0.587940</td>\n      <td>0.754098</td>\n      <td>0.000000</td>\n      <td>0.000000</td>\n      <td>0</td>\n    </tr>\n    <tr>\n      <th>p795</th>\n      <td>0.650000</td>\n      <td>0.582915</td>\n      <td>0.536513</td>\n      <td>0.547598</td>\n      <td>0.294118</td>\n      <td>0.547739</td>\n      <td>0.614754</td>\n      <td>0.262626</td>\n      <td>0.000000</td>\n      <td>0</td>\n    </tr>\n    <tr>\n      <th>p796</th>\n      <td>0.116667</td>\n      <td>0.492462</td>\n      <td>0.470939</td>\n      <td>0.853546</td>\n      <td>0.176471</td>\n      <td>0.793970</td>\n      <td>0.622951</td>\n      <td>0.363636</td>\n      <td>0.289598</td>\n      <td>1</td>\n    </tr>\n    <tr>\n      <th>p797</th>\n      <td>0.016667</td>\n      <td>0.542714</td>\n      <td>0.369598</td>\n      <td>0.267730</td>\n      <td>0.176471</td>\n      <td>0.442211</td>\n      <td>0.475410</td>\n      <td>0.111111</td>\n      <td>0.063830</td>\n      <td>0</td>\n    </tr>\n    <tr>\n      <th>p798</th>\n      <td>0.116667</td>\n      <td>0.417085</td>\n      <td>0.296572</td>\n      <td>0.188484</td>\n      <td>0.352941</td>\n      <td>0.462312</td>\n      <td>0.754098</td>\n      <td>0.000000</td>\n      <td>0.000000</td>\n      <td>0</td>\n    </tr>\n  </tbody>\n</table>\n<p>787 rows × 10 columns</p>\n</div>"
     },
     "metadata": {},
     "execution_count": 8
    }
   ],
   "source": [
    "scaler = MinMaxScaler()\n",
    "columns_to_scale = [\n",
    "    'Age',\n",
    "    'HealthFactor2',\n",
    "    'BMI',\n",
    "    'DiabetesPedigreeFunction',\n",
    "    'Pregnancies',\n",
    "    'Glucose',\n",
    "    'BloodPressure',\n",
    "    'SkinThickness',\n",
    "    'Insulin'\n",
    "]\n",
    "df[columns_to_scale] = scaler.fit_transform(df[columns_to_scale])\n",
    "df"
   ]
  },
  {
   "source": [
    "Para treinar o modelo, foram utilizados o GridSearchCV, que é uma classe do SKLearn para a otimização do modelo. Ele faz uma busca exaustiva pelos parãmetros fornecidos, criando modelos para cada combinação possível, e avaliando os modelos gerados. A avaliação é tada por validação cruzada de 5 partes (5 fold). \n",
    "É importante observar que estão sendo gerados modelos com diferentes arquiteturas de redes neurais. Mais especificamente, todas as arquiteturas:\n",
    " [5],\n",
    " [10],\n",
    " [20],\n",
    " [40],\n",
    " [5, 5],\n",
    " [10, 10],\n",
    " [20, 20],\n",
    " [40, 40],\n",
    " [5, 5, 5],\n",
    " [10, 10, 10],\n",
    " [20, 20, 20],\n",
    " [40, 40, 40],\n",
    " [5, 5, 5, 5],\n",
    " [10, 10, 10, 10],\n",
    " [20, 20, 20, 20],\n",
    " [40, 40, 40, 40]"
   ],
   "cell_type": "markdown",
   "metadata": {}
  },
  {
   "cell_type": "code",
   "execution_count": 11,
   "metadata": {},
   "outputs": [
    {
     "output_type": "execute_result",
     "data": {
      "text/plain": [
       "GridSearchCV(cv=5, estimator=MLPClassifier(),\n",
       "             param_grid={'activation': ('logistic', '‘tanh', 'relu'),\n",
       "                         'hidden_layer_sizes': [[5], [10], [20], [40], [5, 5],\n",
       "                                                [10, 10], [20, 20], [40, 40],\n",
       "                                                [5, 5, 5], [10, 10, 10],\n",
       "                                                [20, 20, 20], [40, 40, 40],\n",
       "                                                [5, 5, 5, 5], [10, 10, 10, 10],\n",
       "                                                [20, 20, 20, 20],\n",
       "                                                [40, 40, 40, 40]],\n",
       "                         'learning_rate': ('constant', 'invscaling',\n",
       "                                           'adaptive'),\n",
       "                         'random_state': [113080612],\n",
       "                         'solver': ('lbfgs', 'sgd', 'adam')})"
      ]
     },
     "metadata": {},
     "execution_count": 11
    }
   ],
   "source": [
    "df_x = df.drop(['Outcome'], axis=1)\n",
    "df_y = df[['Outcome']]\n",
    "x_train, x_test, y_train, y_test = train_test_split(df_x, df_y, test_size=0.30, random_state=DRE)\n",
    "parameters = {\n",
    "    'solver':('lbfgs', 'sgd', 'adam'),\n",
    "    'activation': ('logistic', '‘tanh', 'relu'),\n",
    "    'learning_rate': ('constant', 'invscaling', 'adaptive'),\n",
    "    'hidden_layer_sizes': [ [i]*j for j in range(1, 5) for i in [5, 10, 20, 40] ],\n",
    "    'random_state': [DRE],\n",
    "}\n",
    "clf = GridSearchCV(MLPClassifier(), parameters, cv=5, refit=True)\n",
    "clf.fit(df_x, df_y)"
   ]
  },
  {
   "cell_type": "code",
   "execution_count": 12,
   "metadata": {},
   "outputs": [
    {
     "output_type": "stream",
     "name": "stdout",
     "text": [
      "MLPClassifier(hidden_layer_sizes=[20, 20, 20, 20], random_state=113080612)\n0.7663065387406274\n"
     ]
    }
   ],
   "source": [
    "print(clf.best_estimator_)\n",
    "print(clf.best_score_)"
   ]
  },
  {
   "source": [
    "O melhor modelo encontrado portanto, via validação cruzada 5-fold, foi o modelo MLPClassifier(hidden_layer_sizes=[20, 20, 20, 20], random_state=113080612), que obteve acurácia de aprox. 77%."
   ],
   "cell_type": "markdown",
   "metadata": {}
  }
 ]
}